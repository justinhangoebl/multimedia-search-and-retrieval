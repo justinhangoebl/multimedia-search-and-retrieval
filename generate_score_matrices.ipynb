{
 "cells": [
  {
   "cell_type": "code",
   "execution_count": 8,
   "metadata": {
    "ExecuteTime": {
     "end_time": "2024-12-08T19:38:00.959602Z",
     "start_time": "2024-12-08T19:38:00.612121Z"
    }
   },
   "outputs": [],
   "source": [
    "from similarity_measures import *\n",
    "from experimental_metrics import *\n",
    "from random_sample import *\n",
    "from single_modal_vector_retrieval import *\n",
    "import warnings\n",
    "warnings.filterwarnings(\"ignore\")"
   ]
  },
  {
   "cell_type": "code",
   "execution_count": 9,
   "metadata": {},
   "outputs": [],
   "source": [
    "infos = pd.read_csv(\"dataset/id_information_mmsr.tsv\", sep=\"\\t\")\n",
    "topK = 10\n",
    "similarity_fn = cosine_similarity"
   ]
  },
  {
   "cell_type": "code",
   "execution_count": 10,
   "metadata": {},
   "outputs": [
    {
     "name": "stdout",
     "output_type": "stream",
     "text": [
      "Using 4 cores for Random Recommendations.\n"
     ]
    },
    {
     "name": "stderr",
     "output_type": "stream",
     "text": [
      "Processing Random Recommendations: 100%|██████████| 5148/5148 [00:05<00:00, 923.19it/s] \n"
     ]
    }
   ],
   "source": [
    "random_sample_ret = all_random(infos, topK)\n",
    "np.savetxt(f\"./predictions/rets_random_matrix_10.csv\", random_sample_ret, delimiter=\",\")"
   ]
  },
  {
   "cell_type": "code",
   "execution_count": 11,
   "metadata": {},
   "outputs": [
    {
     "name": "stdout",
     "output_type": "stream",
     "text": [
      "Using 4 cores for Single Modal Vector processing.\n"
     ]
    },
    {
     "name": "stderr",
     "output_type": "stream",
     "text": [
      "Processing Single Modal Vector Retrieval:   4%|▍         | 214/5148 [00:24<10:19,  7.97it/s]"
     ]
    },
    {
     "name": "stderr",
     "output_type": "stream",
     "text": [
      "Processing Single Modal Vector Retrieval: 100%|██████████| 5148/5148 [09:41<00:00,  8.85it/s]\n"
     ]
    },
    {
     "name": "stdout",
     "output_type": "stream",
     "text": [
      "Using 4 cores for Single Modal Vector processing.\n"
     ]
    },
    {
     "name": "stderr",
     "output_type": "stream",
     "text": [
      "Processing Single Modal Vector Retrieval: 100%|██████████| 5148/5148 [08:52<00:00,  9.68it/s]\n"
     ]
    },
    {
     "name": "stdout",
     "output_type": "stream",
     "text": [
      "Using 4 cores for Single Modal Vector processing.\n"
     ]
    },
    {
     "name": "stderr",
     "output_type": "stream",
     "text": [
      "Processing Single Modal Vector Retrieval: 100%|██████████| 5148/5148 [07:52<00:00, 10.89it/s]\n"
     ]
    },
    {
     "name": "stdout",
     "output_type": "stream",
     "text": [
      "Using 4 cores for Single Modal Vector processing.\n"
     ]
    },
    {
     "name": "stderr",
     "output_type": "stream",
     "text": [
      "Processing Single Modal Vector Retrieval: 100%|██████████| 5148/5148 [06:49<00:00, 12.56it/s]\n"
     ]
    },
    {
     "name": "stdout",
     "output_type": "stream",
     "text": [
      "Using 4 cores for Single Modal Vector processing.\n"
     ]
    },
    {
     "name": "stderr",
     "output_type": "stream",
     "text": [
      "Processing Single Modal Vector Retrieval: 100%|██████████| 5148/5148 [07:28<00:00, 11.48it/s]\n"
     ]
    },
    {
     "name": "stdout",
     "output_type": "stream",
     "text": [
      "Using 4 cores for Single Modal Vector processing.\n"
     ]
    },
    {
     "name": "stderr",
     "output_type": "stream",
     "text": [
      "Processing Single Modal Vector Retrieval: 100%|██████████| 5148/5148 [06:52<00:00, 12.48it/s]\n"
     ]
    },
    {
     "name": "stdout",
     "output_type": "stream",
     "text": [
      "Using 4 cores for Single Modal Vector processing.\n"
     ]
    },
    {
     "name": "stderr",
     "output_type": "stream",
     "text": [
      "Processing Single Modal Vector Retrieval: 100%|██████████| 5148/5148 [06:41<00:00, 12.82it/s]\n"
     ]
    },
    {
     "name": "stdout",
     "output_type": "stream",
     "text": [
      "Using 4 cores for Single Modal Vector processing.\n"
     ]
    },
    {
     "name": "stderr",
     "output_type": "stream",
     "text": [
      "Processing Single Modal Vector Retrieval: 100%|██████████| 5148/5148 [15:46<00:00,  5.44it/s]\n"
     ]
    },
    {
     "name": "stdout",
     "output_type": "stream",
     "text": [
      "Using 4 cores for Single Modal Vector processing.\n"
     ]
    },
    {
     "name": "stderr",
     "output_type": "stream",
     "text": [
      "Processing Single Modal Vector Retrieval: 100%|██████████| 5148/5148 [25:05<00:00,  3.42it/s]\n"
     ]
    },
    {
     "name": "stdout",
     "output_type": "stream",
     "text": [
      "Using 4 cores for Single Modal Vector processing.\n"
     ]
    },
    {
     "name": "stderr",
     "output_type": "stream",
     "text": [
      "Processing Single Modal Vector Retrieval: 100%|██████████| 5148/5148 [15:52<00:00,  5.41it/s]\n"
     ]
    }
   ],
   "source": [
    "models = [\n",
    "    # TEXT\n",
    "    \"lyrics_tf-idf\", \"lyrics_bert\", \"lyrics_word2vec\",\n",
    "    # AUDIO\n",
    "    \"ivec256\", \"mfcc_bow\", \"mfcc_stats\", \"musicnn\",\n",
    "    # VIDEO\n",
    "    \"resnet\", \"vgg19\", \"incp\"\n",
    "    ]\n",
    "\n",
    "for model in models:\n",
    "    vector = pd.read_csv(f\"dataset/id_{model}_mmsr.tsv\", sep=\"\\t\")\n",
    "    rets = generate_scores_matrix_for_sm_vectors(infos, vector, similarity_fn, topK)\n",
    "    np.savetxt(f\"./predictions/rets_{model}_matrix_10.csv\", rets, delimiter=\",\")"
   ]
  },
  {
   "cell_type": "code",
   "execution_count": 12,
   "metadata": {},
   "outputs": [],
   "source": [
    "#ivec256 = pd.read_csv(\"dataset/id_ivec256_mmsr.tsv.gz\", sep=\"\\t\")\n",
    "#ivec512 = pd.read_csv(\"dataset/id_ivec512_mmsr.tsv.gz\", sep=\"\\t\")\n",
    "#ivec1024 = pd.read_csv(\"dataset/id_ivec1024_mmsr.tsv.gz\", sep=\"\\t\")\n",
    "\n",
    "#ivec_recs = all_ivec_recs_matrix(infos, ivec256, ivec512, ivec1024, topK)\n",
    "#ivec_recs.to_csv(\"./predictions/recs_ivec_matrix_10.csv\", sep=\",\", index=False, header=True)"
   ]
  },
  {
   "cell_type": "code",
   "execution_count": 13,
   "metadata": {},
   "outputs": [],
   "source": [
    "#genres = pd.read_csv(\"dataset/id_genres_mmsr.tsv.gz\", sep=\"\\t\")\n",
    "#tags = pd.read_csv(\"dataset/id_tags_dict.tsv.gz\", sep=\"\\t\")\n",
    "#ivec256 = pd.read_csv(\"dataset/id_ivec256_mmsr.tsv.gz\", sep=\"\\t\")\n",
    "#ivec512 = pd.read_csv(\"dataset/id_ivec512_mmsr.tsv.gz\", sep=\"\\t\")\n",
    "#ivec1024 = pd.read_csv(\"dataset/id_ivec1024_mmsr.tsv.gz\", sep=\"\\t\")\n",
    "#recs_fa = all_feature_aware_recs_matrix(\n",
    "#    infos=infos,\n",
    "#    genres=genres,\n",
    "#    tags=tags,\n",
    "#    ivec256=ivec256,\n",
    "#    ivec512=ivec512,\n",
    "#    ivec1024=ivec1024,\n",
    "#    topK=100,        # Number of recommendations\n",
    "#    alpha=1.0,      # Weight for genres\n",
    "#    beta=1.0,       # Weight for tags\n",
    "#    gamma=2.0       # Weight for ivec\n",
    "#)\n",
    "#recs_fa.to_csv(\"./predictions/recs_f_a_matrix_10.csv\", sep=\",\", index=False, header=True)"
   ]
  }
 ],
 "metadata": {
  "kernelspec": {
   "display_name": ".venv",
   "language": "python",
   "name": "python3"
  },
  "language_info": {
   "codemirror_mode": {
    "name": "ipython",
    "version": 3
   },
   "file_extension": ".py",
   "mimetype": "text/x-python",
   "name": "python",
   "nbconvert_exporter": "python",
   "pygments_lexer": "ipython3",
   "version": "3.12.4"
  }
 },
 "nbformat": 4,
 "nbformat_minor": 4
}
