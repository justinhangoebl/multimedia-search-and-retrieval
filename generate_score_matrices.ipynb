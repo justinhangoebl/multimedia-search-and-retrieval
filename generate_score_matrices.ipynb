{
 "cells": [
  {
   "cell_type": "code",
   "execution_count": 7,
   "metadata": {
    "ExecuteTime": {
     "end_time": "2024-12-08T19:38:00.959602Z",
     "start_time": "2024-12-08T19:38:00.612121Z"
    }
   },
   "outputs": [],
   "source": [
    "from similarity_measures import *\n",
    "from experimental_metrics import *\n",
    "from random_sample import *\n",
    "from single_modal_vector_retrieval import *\n",
    "import warnings\n",
    "warnings.filterwarnings(\"ignore\")"
   ]
  },
  {
   "cell_type": "code",
   "execution_count": 8,
   "metadata": {},
   "outputs": [],
   "source": [
    "infos = pd.read_csv(\"dataset/id_information_mmsr.tsv\", sep=\"\\t\")\n",
    "topK = 10\n",
    "similarity_fn = jensen_shannon_divergence"
   ]
  },
  {
   "cell_type": "code",
   "execution_count": 9,
   "metadata": {},
   "outputs": [
    {
     "name": "stdout",
     "output_type": "stream",
     "text": [
      "Using 4 cores for Random Recommendations.\n"
     ]
    },
    {
     "name": "stderr",
     "output_type": "stream",
     "text": [
      "Processing Random Recommendations: 100%|██████████| 5148/5148 [00:05<00:00, 949.02it/s] \n"
     ]
    }
   ],
   "source": [
    "random_sample_ret = all_random(infos, topK)\n",
    "np.savetxt(f\"./predictions/rets_random_matrix_10.csv\", random_sample_ret, delimiter=\",\")"
   ]
  },
  {
   "cell_type": "code",
   "execution_count": 10,
   "metadata": {},
   "outputs": [
    {
     "name": "stdout",
     "output_type": "stream",
     "text": [
      "Using 4 cores for Single Modal Vector processing.\n"
     ]
    },
    {
     "name": "stderr",
     "output_type": "stream",
     "text": [
      "Processing Single Modal Vector Retrieval: 100%|██████████| 5148/5148 [18:28<00:00,  4.64it/s]\n"
     ]
    }
   ],
   "source": [
    "models = [\n",
    "    # TEXT\n",
    "    #\"lyrics_tf-idf\", \n",
    "    #\"lyrics_bert\",\n",
    "    #\"lyrics_word2vec\",\n",
    "    # AUDIO\n",
    "    #\"ivec256\", \n",
    "    \"mfcc_bow\",\n",
    "    #\"mfcc_stats\",\n",
    "    #\"musicnn\",\n",
    "    # VIDEO\n",
    "    #\"resnet\",\n",
    "    #\"vgg19\", \n",
    "    #\"incp\"\n",
    "    ]\n",
    "\n",
    "for model in models:\n",
    "    vector = pd.read_csv(f\"dataset/id_{model}_mmsr.tsv\", sep=\"\\t\")\n",
    "    rets = generate_scores_matrix_for_sm_vectors(infos, vector, similarity_fn, topK)\n",
    "    np.savetxt(f\"./predictions/rets_{model}_{topK}_matrix.csv\", rets, delimiter=\",\")"
   ]
  }
 ],
 "metadata": {
  "kernelspec": {
   "display_name": ".venv",
   "language": "python",
   "name": "python3"
  },
  "language_info": {
   "codemirror_mode": {
    "name": "ipython",
    "version": 3
   },
   "file_extension": ".py",
   "mimetype": "text/x-python",
   "name": "python",
   "nbconvert_exporter": "python",
   "pygments_lexer": "ipython3",
   "version": "3.12.4"
  }
 },
 "nbformat": 4,
 "nbformat_minor": 4
}
