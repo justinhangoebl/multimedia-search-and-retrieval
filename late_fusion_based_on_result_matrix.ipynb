{
 "cells": [
  {
   "cell_type": "code",
   "execution_count": 4,
   "metadata": {},
   "outputs": [],
   "source": [
    "import numpy as np\n",
    "\n",
    "\n",
    "\n",
    "# Example matrices\n",
    "inter_graph_nn = np.genfromtxt(f\"./predictions/rets_gm_nearest_neighbor_matrix_10.csv\", delimiter=',', dtype=float, filling_values=np.nan)\n",
    "inter_bert = np.loadtxt(f\"predictions/rets_bert_matrix_10.csv\", delimiter=\",\")\n",
    "inter_ivec = np.loadtxt(f\"predictions/rets_ivec256_matrix_10.csv\", delimiter=\",\")\n",
    "inter_incp = np.loadtxt(f\"predictions/rets_incp_matrix_10.csv\", delimiter=\",\")\n",
    "\n",
    "# Normalize each matrix to [0, 1] scale (min-max normalization)\n",
    "def normalize(matrix):\n",
    "    return (matrix - np.min(matrix)) / (np.max(matrix) - np.min(matrix))\n",
    "\n",
    "matrix1_normalized = normalize(inter_graph_nn)\n",
    "matrix2_normalized = normalize(inter_bert)\n",
    "matrix3_normalized = normalize(inter_ivec)\n",
    "matrix4_normalized = normalize(inter_incp)\n",
    "\n",
    "# Combine and average the matrices\n",
    "combined_average = np.mean([matrix1_normalized, matrix2_normalized, matrix3_normalized, matrix4_normalized], axis=0)\n",
    "\n",
    "combined_average = np.mean([inter_graph_nn, inter_bert, inter_ivec, inter_incp], axis=0)\n"
   ]
  },
  {
   "cell_type": "code",
   "execution_count": 5,
   "metadata": {},
   "outputs": [
    {
     "name": "stdout",
     "output_type": "stream",
     "text": [
      "Combined average matrix:\n",
      "40273.57945957984\n"
     ]
    }
   ],
   "source": [
    "print(\"Combined average matrix:\")\n",
    "print(combined_average.sum())\n",
    "np.savetxt(f\"./predictions/rets_late_new_matrix_10.csv\", combined_average, delimiter=\",\")"
   ]
  }
 ],
 "metadata": {
  "kernelspec": {
   "display_name": ".venv",
   "language": "python",
   "name": "python3"
  },
  "language_info": {
   "codemirror_mode": {
    "name": "ipython",
    "version": 3
   },
   "file_extension": ".py",
   "mimetype": "text/x-python",
   "name": "python",
   "nbconvert_exporter": "python",
   "pygments_lexer": "ipython3",
   "version": "3.12.4"
  }
 },
 "nbformat": 4,
 "nbformat_minor": 2
}
