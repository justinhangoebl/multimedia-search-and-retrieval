{
 "cells": [
  {
   "cell_type": "code",
   "execution_count": 5,
   "metadata": {
    "ExecuteTime": {
     "end_time": "2024-12-08T19:38:00.959602Z",
     "start_time": "2024-12-08T19:38:00.612121Z"
    }
   },
   "outputs": [],
   "source": [
    "from similarity_measures import *\n",
    "from experimental_metrics import *\n",
    "from f_a import *\n",
    "from ivec import *\n",
    "from random_sample import *\n",
    "from single_modal_vector_retrieval import *\n",
    "import warnings\n",
    "warnings.filterwarnings(\"ignore\")"
   ]
  },
  {
   "cell_type": "code",
   "execution_count": 6,
   "metadata": {},
   "outputs": [],
   "source": [
    "infos = pd.read_csv(\"dataset/id_information_mmsr.tsv\", sep=\"\\t\")\n",
    "topK = 10\n",
    "similarity_fn = cosine_similarity"
   ]
  },
  {
   "cell_type": "code",
   "execution_count": 7,
   "metadata": {},
   "outputs": [
    {
     "name": "stdout",
     "output_type": "stream",
     "text": [
      "Using 4 cores for Single Modal Vector processing.\n"
     ]
    },
    {
     "name": "stderr",
     "output_type": "stream",
     "text": [
      "Processing Single Modal Vector Retrieval: 100%|██████████| 5148/5148 [00:07<00:00, 664.66it/s] \n"
     ]
    }
   ],
   "source": [
    "random_sample = all_random_ui(infos, topK)\n",
    "random_sample.to_csv(f\"./predictions/rets_random_10.csv\", sep=\",\", index=False, header=True)"
   ]
  },
  {
   "cell_type": "code",
   "execution_count": 9,
   "metadata": {},
   "outputs": [
    {
     "name": "stdout",
     "output_type": "stream",
     "text": [
      "Using 4 cores for Single Modal Vector processing.\n"
     ]
    },
    {
     "name": "stderr",
     "output_type": "stream",
     "text": [
      "Processing Single Modal Vector Retrieval: 100%|██████████| 5148/5148 [08:48<00:00,  9.74it/s]\n"
     ]
    },
    {
     "name": "stdout",
     "output_type": "stream",
     "text": [
      "Using 4 cores for Single Modal Vector processing.\n"
     ]
    },
    {
     "name": "stderr",
     "output_type": "stream",
     "text": [
      "Processing Single Modal Vector Retrieval: 100%|██████████| 5148/5148 [08:27<00:00, 10.14it/s]\n"
     ]
    },
    {
     "name": "stdout",
     "output_type": "stream",
     "text": [
      "Using 4 cores for Single Modal Vector processing.\n"
     ]
    },
    {
     "name": "stderr",
     "output_type": "stream",
     "text": [
      "Processing Single Modal Vector Retrieval: 100%|██████████| 5148/5148 [07:15<00:00, 11.82it/s]\n"
     ]
    },
    {
     "name": "stdout",
     "output_type": "stream",
     "text": [
      "Using 4 cores for Single Modal Vector processing.\n"
     ]
    },
    {
     "name": "stderr",
     "output_type": "stream",
     "text": [
      "Processing Single Modal Vector Retrieval: 100%|██████████| 5148/5148 [07:15<00:00, 11.82it/s]\n"
     ]
    },
    {
     "name": "stdout",
     "output_type": "stream",
     "text": [
      "Using 4 cores for Single Modal Vector processing.\n"
     ]
    },
    {
     "name": "stderr",
     "output_type": "stream",
     "text": [
      "Processing Single Modal Vector Retrieval: 100%|██████████| 5148/5148 [06:47<00:00, 12.64it/s]\n"
     ]
    },
    {
     "name": "stdout",
     "output_type": "stream",
     "text": [
      "Using 4 cores for Single Modal Vector processing.\n"
     ]
    },
    {
     "name": "stderr",
     "output_type": "stream",
     "text": [
      "Processing Single Modal Vector Retrieval: 100%|██████████| 5148/5148 [06:24<00:00, 13.41it/s]\n"
     ]
    },
    {
     "name": "stdout",
     "output_type": "stream",
     "text": [
      "Using 4 cores for Single Modal Vector processing.\n"
     ]
    },
    {
     "name": "stderr",
     "output_type": "stream",
     "text": [
      "Processing Single Modal Vector Retrieval: 100%|██████████| 5148/5148 [14:32<00:00,  5.90it/s]\n"
     ]
    },
    {
     "name": "stdout",
     "output_type": "stream",
     "text": [
      "Using 4 cores for Single Modal Vector processing.\n"
     ]
    },
    {
     "name": "stderr",
     "output_type": "stream",
     "text": [
      "Processing Single Modal Vector Retrieval: 100%|██████████| 5148/5148 [25:08<00:00,  3.41it/s]\n"
     ]
    },
    {
     "name": "stdout",
     "output_type": "stream",
     "text": [
      "Using 4 cores for Single Modal Vector processing.\n"
     ]
    },
    {
     "name": "stderr",
     "output_type": "stream",
     "text": [
      "Processing Single Modal Vector Retrieval: 100%|██████████| 5148/5148 [16:49<00:00,  5.10it/s]\n"
     ]
    }
   ],
   "source": [
    "models = [\n",
    "    # TEXT\n",
    "    \"lyrics_tf-idf\", \"lyrics_bert\", \"lyrics_word2vec\",\n",
    "    # AUDIO\n",
    "    \"mfcc_bow\", \"mfcc_stats\", \"musicnn\",\n",
    "    # VIDEO\n",
    "    \"resnet\", \"vgg19\", \"incp\"\n",
    "    ]\n",
    "\n",
    "for model in models:\n",
    "    vector = pd.read_csv(f\"dataset/id_{model}_mmsr.tsv\", sep=\"\\t\")\n",
    "    recs = generate_single_modal_vector_retrieval(infos, vector, similarity_fn, topK)\n",
    "    recs.to_csv(f\"./predictions/rets_{model}_10.csv\", sep=\",\", index=False, header=True)"
   ]
  },
  {
   "cell_type": "code",
   "execution_count": null,
   "metadata": {},
   "outputs": [],
   "source": [
    "\n",
    "#ivec256 = pd.read_csv(\"dataset/id_ivec256_mmsr.tsv.gz\", sep=\"\\t\")\n",
    "#ivec512 = pd.read_csv(\"dataset/id_ivec512_mmsr.tsv.gz\", sep=\"\\t\")\n",
    "#ivec1024 = pd.read_csv(\"dataset/id_ivec1024_mmsr.tsv.gz\", sep=\"\\t\")\n",
    "\n",
    "#ivec_recs = all_ivec_recs(infos, ivec256, ivec512, ivec1024, topK)\n",
    "#ivec_recs.to_csv(\"./predictions/recs_ivec_10.csv\", sep=\",\", index=False, header=True)"
   ]
  },
  {
   "cell_type": "code",
   "execution_count": null,
   "metadata": {},
   "outputs": [
    {
     "name": "stdout",
     "output_type": "stream",
     "text": [
      "Using 8 cores for feature-aware recommendation generation.\n"
     ]
    },
    {
     "data": {
      "application/vnd.jupyter.widget-view+json": {
       "model_id": "8a258c90da634ae790cde6f9fc151369",
       "version_major": 2,
       "version_minor": 0
      },
      "text/plain": [
       "Processing Feature-Aware Recommendations:   0%|          | 0/5148 [00:00<?, ?it/s]"
      ]
     },
     "metadata": {},
     "output_type": "display_data"
    }
   ],
   "source": [
    "#genres = pd.read_csv(\"dataset/id_genres_mmsr.tsv.gz\", sep=\"\\t\")\n",
    "#tags = pd.read_csv(\"dataset/id_tags_dict.tsv.gz\", sep=\"\\t\")\n",
    "#ivec256 = pd.read_csv(\"dataset/id_ivec256_mmsr.tsv.gz\", sep=\"\\t\")\n",
    "#ivec512 = pd.read_csv(\"dataset/id_ivec512_mmsr.tsv.gz\", sep=\"\\t\")\n",
    "#ivec1024 = pd.read_csv(\"dataset/id_ivec1024_mmsr.tsv.gz\", sep=\"\\t\")\n",
    "#recs_fa = all_feature_aware_recs(\n",
    "#    infos=infos,\n",
    "#    genres=genres,\n",
    "#    tags=tags,\n",
    "#    ivec256=ivec256,\n",
    "#    ivec512=ivec512,\n",
    "#    ivec1024=ivec1024,\n",
    "#    topK=100,        # Number of recommendations\n",
    "#    alpha=1.0,      # Weight for genres\n",
    "#    beta=1.0,       # Weight for tags\n",
    "#    gamma=2.0       # Weight for ivec\n",
    "#)\n",
    "#recs_fa.to_csv(\"./predictions/recs_f_a_10.csv\", sep=\",\", index=False, header=True)"
   ]
  }
 ],
 "metadata": {
  "kernelspec": {
   "display_name": ".venv",
   "language": "python",
   "name": "python3"
  },
  "language_info": {
   "codemirror_mode": {
    "name": "ipython",
    "version": 3
   },
   "file_extension": ".py",
   "mimetype": "text/x-python",
   "name": "python",
   "nbconvert_exporter": "python",
   "pygments_lexer": "ipython3",
   "version": "3.12.4"
  }
 },
 "nbformat": 4,
 "nbformat_minor": 4
}
