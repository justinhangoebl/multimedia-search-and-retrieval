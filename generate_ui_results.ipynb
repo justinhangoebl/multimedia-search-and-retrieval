{
 "cells": [
  {
   "cell_type": "code",
   "execution_count": 4,
   "metadata": {
    "ExecuteTime": {
     "end_time": "2024-12-08T19:38:00.959602Z",
     "start_time": "2024-12-08T19:38:00.612121Z"
    }
   },
   "outputs": [],
   "source": [
    "from similarity_measures import *\n",
    "from experimental_metrics import *\n",
    "from f_a import *\n",
    "from ivec import *\n",
    "from random_sample import *\n",
    "from single_modal_vector_retrieval import *\n",
    "import warnings\n",
    "warnings.filterwarnings(\"ignore\")"
   ]
  },
  {
   "cell_type": "code",
   "execution_count": 5,
   "metadata": {},
   "outputs": [],
   "source": [
    "infos = pd.read_csv(\"dataset/id_information_mmsr.tsv\", sep=\"\\t\")\n",
    "topK = 100\n",
    "similarity_fn = cosine_similarity"
   ]
  },
  {
   "cell_type": "code",
   "execution_count": 6,
   "metadata": {},
   "outputs": [
    {
     "name": "stdout",
     "output_type": "stream",
     "text": [
      "Using 4 cores for Single Modal Vector processing.\n"
     ]
    },
    {
     "name": "stderr",
     "output_type": "stream",
     "text": [
      "Processing Single Modal Vector Retrieval: 100%|██████████| 5148/5148 [00:19<00:00, 268.78it/s]\n"
     ]
    }
   ],
   "source": [
    "random_sample = all_random_ui(infos, topK)\n",
    "random_sample.to_csv(f\"./predictions/ui/rets_random_100.csv\", sep=\",\", index=False, header=True)"
   ]
  },
  {
   "cell_type": "code",
   "execution_count": 7,
   "metadata": {},
   "outputs": [
    {
     "name": "stdout",
     "output_type": "stream",
     "text": [
      "Using 4 cores for Single Modal Vector processing.\n"
     ]
    },
    {
     "name": "stderr",
     "output_type": "stream",
     "text": [
      "Processing Single Modal Vector Retrieval: 100%|██████████| 5148/5148 [1:25:02<00:00,  1.01it/s]     \n"
     ]
    }
   ],
   "source": [
    "models = [\n",
    "    # TEXT\n",
    "    #\"lyrics_tf-idf\", \n",
    "    #\"lyrics_bert\",\n",
    "    #\"lyrics_word2vec\",\n",
    "    # AUDIO\n",
    "    #\"ivec256\", \n",
    "    #\"mfcc_bow\",\n",
    "    #\"mfcc_stats\",\n",
    "    \"musicnn\",\n",
    "    # VIDEO\n",
    "    #\"resnet\",\n",
    "    #\"vgg19\", \"incp\"\n",
    "    ]\n",
    "\n",
    "\n",
    "for model in models:\n",
    "    vector = pd.read_csv(f\"dataset/id_{model}_mmsr.tsv\", sep=\"\\t\")\n",
    "    recs = generate_single_modal_vector_retrieval(infos, vector, similarity_fn, topK)\n",
    "    recs.to_csv(f\"./predictions/ui/rets_{model}_100.csv\", sep=\",\", index=False, header=True)"
   ]
  }
 ],
 "metadata": {
  "kernelspec": {
   "display_name": ".venv",
   "language": "python",
   "name": "python3"
  },
  "language_info": {
   "codemirror_mode": {
    "name": "ipython",
    "version": 3
   },
   "file_extension": ".py",
   "mimetype": "text/x-python",
   "name": "python",
   "nbconvert_exporter": "python",
   "pygments_lexer": "ipython3",
   "version": "3.12.2"
  }
 },
 "nbformat": 4,
 "nbformat_minor": 4
}
