{
 "cells": [
  {
   "cell_type": "code",
   "execution_count": 13,
   "metadata": {},
   "outputs": [],
   "source": [
    "import numpy as np\n",
    "import pandas as pd\n",
    "import ast\n",
    "from tqdm import tqdm\n",
    "import matplotlib\n",
    "matplotlib.use('TkAgg')\n",
    "import matplotlib.pyplot as plt\n",
    "\n",
    "from creative import *"
   ]
  },
  {
   "cell_type": "code",
   "execution_count": 14,
   "metadata": {},
   "outputs": [],
   "source": [
    "infos = pd.read_csv('dataset/id_information_mmsr.tsv', sep='\\t')\n",
    "metadata = pd.read_csv('dataset/id_metadata_mmsr.tsv', sep='\\t')\n",
    "tags = pd.read_csv('dataset/id_tags_dict.tsv', sep='\\t')\n",
    "genres_base = pd.read_csv('dataset/top_genres.tsv', sep='\\t')"
   ]
  },
  {
   "cell_type": "code",
   "execution_count": 15,
   "metadata": {},
   "outputs": [],
   "source": [
    "# Count occurrences of each artist\n",
    "artist_counts = infos['artist'].value_counts()\n",
    "\n",
    "filered_artist = artist_counts[artist_counts > 9]\n",
    "\n",
    "# Plot the histogram\n",
    "plt.figure(figsize=(10, 6))\n",
    "filered_artist.plot(kind='bar', color='skyblue', edgecolor='black')\n",
    "plt.title(f'Artist Histogram of more then 9 songs ({len(filered_artist)})', fontsize=16)\n",
    "plt.xlabel('Artist', fontsize=14)\n",
    "plt.ylabel('Frequency', fontsize=14)\n",
    "plt.xticks(rotation=45, ha='right', fontsize=12)\n",
    "plt.tight_layout()\n",
    "\n",
    "# Show the plot\n",
    "plt.show()"
   ]
  },
  {
   "cell_type": "code",
   "execution_count": 16,
   "metadata": {},
   "outputs": [
    {
     "ename": "",
     "evalue": "",
     "output_type": "error",
     "traceback": [
      "\u001b[1;31mThe Kernel crashed while executing code in the current cell or a previous cell. \n",
      "\u001b[1;31mPlease review the code in the cell(s) to identify a possible cause of the failure. \n",
      "\u001b[1;31mClick <a href='https://aka.ms/vscodeJupyterKernelCrash'>here</a> for more info. \n",
      "\u001b[1;31mView Jupyter <a href='command:jupyter.viewOutput'>log</a> for further details."
     ]
    }
   ],
   "source": [
    "genres = genres_base.copy()\n",
    "genres['top_genre'] = genres_base['top_genre'].apply(ast.literal_eval)\n",
    "exp_genres = genres.explode('top_genre').reset_index(drop=True)\n",
    "genre_amount = exp_genres['top_genre'].value_counts()\n",
    "unique_genres_amount = len(list(set(list(genre_amount))))\n",
    "\n",
    "threshold = 50\n",
    "filtered_genre_counts = genre_amount[genre_amount >= threshold]\n",
    "\n",
    "plt.figure(figsize=(10, 6))\n",
    "filtered_genre_counts.plot(kind='bar', color='skyblue', edgecolor='black')\n",
    "plt.title('Histogram of Genres', fontsize=16)\n",
    "plt.xlabel('Genres', fontsize=14)\n",
    "plt.ylabel('Count', fontsize=14)\n",
    "plt.xticks(rotation=45, ha='right', fontsize=12)\n",
    "plt.tight_layout()\n",
    "plt.show()"
   ]
  }
 ],
 "metadata": {
  "kernelspec": {
   "display_name": ".venv",
   "language": "python",
   "name": "python3"
  },
  "language_info": {
   "codemirror_mode": {
    "name": "ipython",
    "version": 3
   },
   "file_extension": ".py",
   "mimetype": "text/x-python",
   "name": "python",
   "nbconvert_exporter": "python",
   "pygments_lexer": "ipython3",
   "version": "3.12.4"
  }
 },
 "nbformat": 4,
 "nbformat_minor": 2
}
