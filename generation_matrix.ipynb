{
 "cells": [
  {
   "cell_type": "code",
   "execution_count": 1,
   "metadata": {
    "ExecuteTime": {
     "end_time": "2024-12-08T19:38:00.959602Z",
     "start_time": "2024-12-08T19:38:00.612121Z"
    }
   },
   "outputs": [],
   "source": [
    "from metrics import *\n",
    "from bert import *\n",
    "from tf_idf import * \n",
    "from random_sample import *\n",
    "from w2v import *\n",
    "from ivec import *\n",
    "from vgg import *\n",
    "from resnet import *\n",
    "from incp import *\n",
    "from f_a import *\n",
    "from f_a_t import *\n",
    "from mfcc import *\n",
    "from f_a_e import *\n",
    "import warnings\n",
    "warnings.filterwarnings(\"ignore\")"
   ]
  },
  {
   "cell_type": "code",
   "execution_count": 2,
   "metadata": {},
   "outputs": [
    {
     "name": "stdout",
     "output_type": "stream",
     "text": [
      "True\n",
      "NVIDIA GeForce RTX 4070 Laptop GPU\n"
     ]
    }
   ],
   "source": [
    "import torch\n",
    "print(torch.cuda.is_available())  # Should return True if CUDA is properly set up\n",
    "print(torch.cuda.get_device_name(0))  # Should print your GPU's name"
   ]
  },
  {
   "cell_type": "code",
   "execution_count": 3,
   "metadata": {},
   "outputs": [],
   "source": [
    "infos = pd.read_csv(\"dataset/id_information_mmsr.tsv\", sep=\"\\t\")"
   ]
  },
  {
   "cell_type": "code",
   "execution_count": 3,
   "metadata": {},
   "outputs": [
    {
     "name": "stdout",
     "output_type": "stream",
     "text": [
      "Using 8 cores for TF-IDF processing.\n"
     ]
    },
    {
     "data": {
      "application/vnd.jupyter.widget-view+json": {
       "model_id": "4a9cf10d0c9d485daae65741f103a508",
       "version_major": 2,
       "version_minor": 0
      },
      "text/plain": [
       "Processing TF-IDF Recommendations:   0%|          | 0/5148 [00:00<?, ?it/s]"
      ]
     },
     "metadata": {},
     "output_type": "display_data"
    }
   ],
   "source": [
    "tf_idf = pd.read_csv(\"dataset/id_lyrics_tf-idf_mmsr.tsv\", sep=\"\\t\")\n",
    "recs_tf_idf = all_tf_idf(infos, tf_idf, topK=10)\n",
    "np.savetxt(\"./predictions/recs_tf_idf_10.csv\", recs_tf_idf, delimiter=\"\\t\")"
   ]
  },
  {
   "cell_type": "code",
   "execution_count": 6,
   "metadata": {},
   "outputs": [
    {
     "name": "stdout",
     "output_type": "stream",
     "text": [
      "Using 8 cores for BERT processing.\n"
     ]
    },
    {
     "data": {
      "application/vnd.jupyter.widget-view+json": {
       "model_id": "0372d1c56f414aa284bd0d9658310559",
       "version_major": 2,
       "version_minor": 0
      },
      "text/plain": [
       "Processing BERT Recommendations:   0%|          | 0/5148 [00:00<?, ?it/s]"
      ]
     },
     "metadata": {},
     "output_type": "display_data"
    }
   ],
   "source": [
    "bert = pd.read_csv(\"dataset/id_lyrics_bert_mmsr.tsv\", sep=\"\\t\")\n",
    "recs_bert = all_bert_recs(infos, bert, topK=10)\n",
    "np.savetxt(\"./predictions/recs_bert_10.csv\", recs_bert, delimiter=\"\\t\")"
   ]
  },
  {
   "cell_type": "code",
   "execution_count": 5,
   "metadata": {},
   "outputs": [
    {
     "name": "stdout",
     "output_type": "stream",
     "text": [
      "Using 8 cores for Random Recommendations.\n"
     ]
    },
    {
     "data": {
      "application/vnd.jupyter.widget-view+json": {
       "model_id": "ce2e53ede61c47b58fbb755f080fe12a",
       "version_major": 2,
       "version_minor": 0
      },
      "text/plain": [
       "Processing Random Recommendations:   0%|          | 0/5148 [00:00<?, ?it/s]"
      ]
     },
     "metadata": {},
     "output_type": "display_data"
    }
   ],
   "source": [
    "recs_random = all_random_recs(infos, topK=10)\n",
    "np.savetxt(\"./predictions/recs_random_10.csv\", recs_random, delimiter=\"\\t\")"
   ]
  },
  {
   "cell_type": "code",
   "execution_count": 4,
   "metadata": {},
   "outputs": [
    {
     "name": "stdout",
     "output_type": "stream",
     "text": [
      "Using 8 cores for Word2Vec recommendation processing.\n"
     ]
    },
    {
     "data": {
      "application/vnd.jupyter.widget-view+json": {
       "model_id": "f07e59dbc4284e98bd9456c1dcec5634",
       "version_major": 2,
       "version_minor": 0
      },
      "text/plain": [
       "Processing Word2Vec Recommendations:   0%|          | 0/5148 [00:00<?, ?it/s]"
      ]
     },
     "metadata": {},
     "output_type": "display_data"
    }
   ],
   "source": [
    "word2vec = pd.read_csv(\"dataset/id_lyrics_word2vec_mmsr.tsv\", sep=\"\\t\")  # Word2Vec embeddings\n",
    "recs_word2vec = all_word2vec_recs(infos, word2vec, topK=10)\n",
    "np.savetxt(\"./predictions/recs_word2vec_10.csv\", recs_word2vec, delimiter=\"\\t\")"
   ]
  },
  {
   "cell_type": "code",
   "execution_count": 4,
   "metadata": {},
   "outputs": [
    {
     "name": "stdout",
     "output_type": "stream",
     "text": [
      "Using 8 cores for iVector recommendation processing.\n"
     ]
    },
    {
     "data": {
      "application/vnd.jupyter.widget-view+json": {
       "model_id": "6138fcff4d3344ce9c46334fa172b451",
       "version_major": 2,
       "version_minor": 0
      },
      "text/plain": [
       "Processing iVector Recommendations:   0%|          | 0/5148 [00:00<?, ?it/s]"
      ]
     },
     "metadata": {},
     "output_type": "display_data"
    }
   ],
   "source": [
    "ivec256 = pd.read_csv(\"dataset/id_ivec256_mmsr.tsv\", sep=\"\\t\")        # iVector (256 dimensions)\n",
    "ivec512 = pd.read_csv(\"dataset/id_ivec512_mmsr.tsv\", sep=\"\\t\")        # iVector (512 dimensions)\n",
    "ivec1024 = pd.read_csv(\"dataset/id_ivec1024_mmsr.tsv\", sep=\"\\t\")      # iVector (1024 dimensions)\n",
    "recs_ivec = all_ivec_recs(infos, ivec256, ivec512, ivec1024, topK=10)\n",
    "np.savetxt(\"./predictions/recs_ivec_10.csv\", recs_ivec, delimiter=\"\\t\")"
   ]
  },
  {
   "cell_type": "code",
   "execution_count": 4,
   "metadata": {},
   "outputs": [
    {
     "name": "stdout",
     "output_type": "stream",
     "text": [
      "Using 8 cores for VGG19 recommendation processing.\n"
     ]
    },
    {
     "data": {
      "application/vnd.jupyter.widget-view+json": {
       "model_id": "c75c1d4071be4d0bb7cfa44f987ef3a6",
       "version_major": 2,
       "version_minor": 0
      },
      "text/plain": [
       "Processing VGG19 Recommendations:   0%|          | 0/5148 [00:00<?, ?it/s]"
      ]
     },
     "metadata": {},
     "output_type": "display_data"
    }
   ],
   "source": [
    "vgg19 = pd.read_csv(\"dataset/id_vgg19_mmsr.tsv\", sep=\"\\t\")        # VGG19 features\n",
    "recs_vgg19 = all_vgg19_recs(infos, vgg19, topK=10)\n",
    "np.savetxt(\"./predictions/recs_vgg19_10.csv\", recs_vgg19, delimiter=\"\\t\")"
   ]
  },
  {
   "cell_type": "code",
   "execution_count": 7,
   "metadata": {},
   "outputs": [
    {
     "name": "stdout",
     "output_type": "stream",
     "text": [
      "Using 8 cores for ResNet processing.\n"
     ]
    },
    {
     "data": {
      "application/vnd.jupyter.widget-view+json": {
       "model_id": "0fad9f5c47aa4f54807d7a99c91cd9bd",
       "version_major": 2,
       "version_minor": 0
      },
      "text/plain": [
       "Processing ResNet Recommendations:   0%|          | 0/5148 [00:00<?, ?it/s]"
      ]
     },
     "metadata": {},
     "output_type": "display_data"
    }
   ],
   "source": [
    "resnet = pd.read_csv(\"dataset/id_resnet_mmsr.tsv\", sep=\"\\t\")\n",
    "recs_resnet = all_resnet_recs(infos, resnet, topK=10)\n",
    "np.savetxt(\"./predictions/recs_resnet_10.csv\", recs_resnet, delimiter=\"\\t\")"
   ]
  },
  {
   "cell_type": "code",
   "execution_count": 9,
   "metadata": {},
   "outputs": [
    {
     "name": "stdout",
     "output_type": "stream",
     "text": [
      "Using 8 cores for Inception processing.\n"
     ]
    },
    {
     "data": {
      "application/vnd.jupyter.widget-view+json": {
       "model_id": "f7a053765fee4f91ae770d32f20055c7",
       "version_major": 2,
       "version_minor": 0
      },
      "text/plain": [
       "Processing Inception Recommendations:   0%|          | 0/5148 [00:00<?, ?it/s]"
      ]
     },
     "metadata": {},
     "output_type": "display_data"
    }
   ],
   "source": [
    "inception = pd.read_csv(\"dataset/id_incp_mmsr.tsv\", sep=\"\\t\")\n",
    "recs_inception = all_inception_recs(infos, inception, topK=10)\n",
    "np.savetxt(\"./predictions/recs_incp_10.csv\", recs_inception, delimiter=\"\\t\")"
   ]
  },
  {
   "cell_type": "code",
   "execution_count": 4,
   "metadata": {},
   "outputs": [
    {
     "name": "stdout",
     "output_type": "stream",
     "text": [
      "Using 8 cores for feature-aware recommendation generation.\n"
     ]
    },
    {
     "data": {
      "application/vnd.jupyter.widget-view+json": {
       "model_id": "7acdc05aa36c4c12a193b439fc32e055",
       "version_major": 2,
       "version_minor": 0
      },
      "text/plain": [
       "Processing Feature-Aware Recommendations:   0%|          | 0/5148 [00:00<?, ?it/s]"
      ]
     },
     "metadata": {},
     "output_type": "display_data"
    }
   ],
   "source": [
    "genres = pd.read_csv(\"dataset/id_genres_mmsr.tsv\", sep=\"\\t\")\n",
    "tags = pd.read_csv(\"dataset/id_tags_dict.tsv\", sep=\"\\t\")\n",
    "ivec256 = pd.read_csv(\"dataset/id_ivec256_mmsr.tsv\", sep=\"\\t\")\n",
    "ivec512 = pd.read_csv(\"dataset/id_ivec512_mmsr.tsv\", sep=\"\\t\")\n",
    "ivec1024 = pd.read_csv(\"dataset/id_ivec1024_mmsr.tsv\", sep=\"\\t\")\n",
    "recs_fa = all_feature_aware_recs(\n",
    "    infos=infos,\n",
    "    genres=genres,\n",
    "    tags=tags,\n",
    "    ivec256=ivec256,\n",
    "    ivec512=ivec512,\n",
    "    ivec1024=ivec1024,\n",
    "    topK=10,        # Number of recommendations\n",
    "    alpha=1.0,      # Weight for genres\n",
    "    beta=1.0,       # Weight for tags\n",
    "    gamma=2.0       # Weight for ivec\n",
    ")\n",
    "np.savetxt(\"./predictions/recs_f_a_10.csv\", recs_fa, delimiter=\"\\t\")"
   ]
  },
  {
   "cell_type": "code",
   "execution_count": 4,
   "metadata": {},
   "outputs": [
    {
     "name": "stdout",
     "output_type": "stream",
     "text": [
      "One-Hot Encoding Genres...\n",
      "One-Hot Encoding Tags...\n",
      "Processing Ivecs and Combining with One-Hot Encodings...\n"
     ]
    },
    {
     "name": "stderr",
     "output_type": "stream",
     "text": [
      "Processing Ivecs: 100%|███████████████████████████████████████████████████████████| 5148/5148 [00:47<00:00, 108.77it/s]\n"
     ]
    },
    {
     "name": "stdout",
     "output_type": "stream",
     "text": [
      "Using 12 cores for feature-aware recommendation generation.\n",
      "Building feature matrix for all songs...\n",
      "Feature matrix shape: (5148, 45485)\n",
      "Similarity matrix computed.\n"
     ]
    },
    {
     "name": "stderr",
     "output_type": "stream",
     "text": [
      "Generating feature-aware recommendations:   0%|                                               | 0/5148 [00:00<?, ?it/s]"
     ]
    },
    {
     "data": {
      "application/vnd.jupyter.widget-view+json": {
       "model_id": "5373f098cb6e44868571b52a0b411f38",
       "version_major": 2,
       "version_minor": 0
      },
      "text/plain": [
       "  0%|          | 0/5148 [00:00<?, ?it/s]"
      ]
     },
     "metadata": {},
     "output_type": "display_data"
    }
   ],
   "source": [
    "genres = pd.read_csv(\"dataset/id_genres_mmsr.tsv\", sep=\"\\t\")\n",
    "tags = pd.read_csv(\"dataset/id_tags_dict.tsv\", sep=\"\\t\")\n",
    "ivec256 = pd.read_csv(\"dataset/id_ivec256_mmsr.tsv\", sep=\"\\t\")\n",
    "ivec512 = pd.read_csv(\"dataset/id_ivec512_mmsr.tsv\", sep=\"\\t\")\n",
    "ivec1024 = pd.read_csv(\"dataset/id_ivec1024_mmsr.tsv\", sep=\"\\t\")\n",
    "recs_fa_e = all_feature_aware_recs_early_fusion(\n",
    "    infos=infos,\n",
    "    genres=genres,\n",
    "    tags=tags,\n",
    "    ivec256=ivec256,\n",
    "    ivec512=ivec512,\n",
    "    ivec1024=ivec1024,\n",
    "    topK=10,        \n",
    ")\n",
    "np.savetxt(\"./predictions/recs_f_a_e_10.csv\", recs_fa_e, delimiter=\"\\t\")"
   ]
  },
  {
   "cell_type": "code",
   "execution_count": 4,
   "metadata": {},
   "outputs": [
    {
     "name": "stdout",
     "output_type": "stream",
     "text": [
      "Using 8 cores for MFCC processing.\n"
     ]
    },
    {
     "data": {
      "application/vnd.jupyter.widget-view+json": {
       "model_id": "931520df8c1d40a6a6898817b1e109c5",
       "version_major": 2,
       "version_minor": 0
      },
      "text/plain": [
       "Processing BERT Recommendations:   0%|          | 0/5148 [00:00<?, ?it/s]"
      ]
     },
     "metadata": {},
     "output_type": "display_data"
    }
   ],
   "source": [
    "mfcc = pd.read_csv(\"dataset/id_mfcc_stats_mmsr.tsv\", sep=\"\\t\")\n",
    "recs_mfcc = all_mfcc_recs(infos, mfcc, topK=10)\n",
    "np.savetxt(\"./predictions/recs_mfcc_stats_10.csv\", recs_mfcc, delimiter=\"\\t\")"
   ]
  },
  {
   "cell_type": "code",
   "execution_count": 5,
   "metadata": {},
   "outputs": [
    {
     "name": "stdout",
     "output_type": "stream",
     "text": [
      "Using 8 cores for MFCC processing.\n"
     ]
    },
    {
     "data": {
      "application/vnd.jupyter.widget-view+json": {
       "model_id": "110bb57a835a4522b011263a234efa6a",
       "version_major": 2,
       "version_minor": 0
      },
      "text/plain": [
       "Processing BERT Recommendations:   0%|          | 0/5148 [00:00<?, ?it/s]"
      ]
     },
     "metadata": {},
     "output_type": "display_data"
    }
   ],
   "source": [
    "mfcc = pd.read_csv(\"dataset/id_mfcc_bow_mmsr.tsv\", sep=\"\\t\")\n",
    "recs_mfcc = all_mfcc_recs(infos, mfcc, topK=10)\n",
    "np.savetxt(\"./predictions/recs_mfcc_bow_10.csv\", recs_mfcc, delimiter=\"\\t\")"
   ]
  }
 ],
 "metadata": {
  "kernelspec": {
   "display_name": "Python 3 (ipykernel)",
   "language": "python",
   "name": "python3"
  },
  "language_info": {
   "codemirror_mode": {
    "name": "ipython",
    "version": 3
   },
   "file_extension": ".py",
   "mimetype": "text/x-python",
   "name": "python",
   "nbconvert_exporter": "python",
   "pygments_lexer": "ipython3",
   "version": "3.11.10"
  }
 },
 "nbformat": 4,
 "nbformat_minor": 4
}
