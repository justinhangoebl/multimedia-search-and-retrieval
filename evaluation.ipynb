{
 "cells": [
  {
   "cell_type": "code",
   "execution_count": 1,
   "metadata": {},
   "outputs": [],
   "source": [
    "import pandas as pd\n",
    "import numpy as np\n",
    "from tqdm import tqdm\n",
    "from metrics import *\n",
    "from bert import *\n",
    "from tf_idf import * \n",
    "from random_sample import *"
   ]
  },
  {
   "cell_type": "code",
   "execution_count": 2,
   "metadata": {},
   "outputs": [],
   "source": [
    "infos = pd.read_csv(\"dataset/id_information_mmsr.tsv\", sep=\"\\t\")\n",
    "inter_true = np.loadtxt(\"./predictions/binary_relevancy_matrix_00.csv\", delimiter=\"\\t\")"
   ]
  },
  {
   "cell_type": "code",
   "execution_count": null,
   "metadata": {},
   "outputs": [],
   "source": [
    "models = [\"random\", \"bert\", \"bert_adv\", \"mfcc_bow\", \"mfcc_stats\", \"tf_idf\", \"item_item\", \"word2vec\", \"ivec\", \"vgg19\", \"resnet\", \"incp\", \"genre_tags\"]\n",
    "evaluation = []\n",
    "\n",
    "for model in models:\n",
    "    inter_pred = np.loadtxt(f\"predictions/recs_{model}_10.csv\", delimiter=\"\\t\")\n",
    "    rat10 = recall_at_k(inter_pred, inter_true, 10)\n",
    "    pat10 = precision_at_k(inter_pred, inter_true, 10)\n",
    "    ndcgat10 = ndcg_at_k(inter_pred, inter_true, 10)\n",
    "    mean_rr = mrr(inter_pred, inter_true)\n",
    "\n",
    "    evaluation.append({\n",
    "        \"model\": model,\n",
    "        \"recall@10\": rat10,\n",
    "        \"precision@10\": pat10,\n",
    "        \"ndcg@10\": ndcgat10,\n",
    "        \"mrr\": mean_rr\n",
    "    })\n",
    "\n",
    "evaluation_df = pd.DataFrame(evaluation)"
   ]
  },
  {
   "cell_type": "code",
   "execution_count": 4,
   "metadata": {},
   "outputs": [
    {
     "data": {
      "text/html": [
       "<div>\n",
       "<style scoped>\n",
       "    .dataframe tbody tr th:only-of-type {\n",
       "        vertical-align: middle;\n",
       "    }\n",
       "\n",
       "    .dataframe tbody tr th {\n",
       "        vertical-align: top;\n",
       "    }\n",
       "\n",
       "    .dataframe thead th {\n",
       "        text-align: right;\n",
       "    }\n",
       "</style>\n",
       "<table border=\"1\" class=\"dataframe\">\n",
       "  <thead>\n",
       "    <tr style=\"text-align: right;\">\n",
       "      <th></th>\n",
       "      <th>model</th>\n",
       "      <th>recall@10</th>\n",
       "      <th>precision@10</th>\n",
       "      <th>ndcg@10</th>\n",
       "      <th>mrr</th>\n",
       "    </tr>\n",
       "  </thead>\n",
       "  <tbody>\n",
       "    <tr>\n",
       "      <th>0</th>\n",
       "      <td>random</td>\n",
       "      <td>0.001757</td>\n",
       "      <td>0.062510</td>\n",
       "      <td>0.063487</td>\n",
       "      <td>0.161123</td>\n",
       "    </tr>\n",
       "    <tr>\n",
       "      <th>1</th>\n",
       "      <td>tf_idf</td>\n",
       "      <td>0.003936</td>\n",
       "      <td>0.093901</td>\n",
       "      <td>0.094834</td>\n",
       "      <td>0.207120</td>\n",
       "    </tr>\n",
       "  </tbody>\n",
       "</table>\n",
       "</div>"
      ],
      "text/plain": [
       "    model  recall@10  precision@10   ndcg@10       mrr\n",
       "0  random   0.001757      0.062510  0.063487  0.161123\n",
       "1  tf_idf   0.003936      0.093901  0.094834  0.207120"
      ]
     },
     "execution_count": 4,
     "metadata": {},
     "output_type": "execute_result"
    }
   ],
   "source": [
    "evaluation_df"
   ]
  }
 ],
 "metadata": {
  "kernelspec": {
   "display_name": ".venv",
   "language": "python",
   "name": "python3"
  },
  "language_info": {
   "codemirror_mode": {
    "name": "ipython",
    "version": 3
   },
   "file_extension": ".py",
   "mimetype": "text/x-python",
   "name": "python",
   "nbconvert_exporter": "python",
   "pygments_lexer": "ipython3",
   "version": "3.12.2"
  }
 },
 "nbformat": 4,
 "nbformat_minor": 4
}
