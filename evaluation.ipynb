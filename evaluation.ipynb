{
 "cells": [
  {
   "cell_type": "code",
   "execution_count": 39,
   "metadata": {},
   "outputs": [],
   "source": [
    "import pandas as pd\n",
    "import numpy as np\n",
    "from tqdm import tqdm\n",
    "from metrics import *\n",
    "from bert import *\n",
    "from tf_idf import * \n",
    "from random_sample import *"
   ]
  },
  {
   "cell_type": "code",
   "execution_count": 40,
   "metadata": {},
   "outputs": [],
   "source": [
    "infos = pd.read_csv(\"dataset/id_information_mmsr.tsv\", sep=\"\\t\")\n",
    "inter_true = np.loadtxt(\"./predictions/binary_relevancy_matrix_00.csv\", delimiter=\"\\t\")"
   ]
  },
  {
   "cell_type": "code",
   "execution_count": null,
   "metadata": {},
   "outputs": [
    {
     "name": "stderr",
     "output_type": "stream",
     "text": [
      "100%|██████████| 2/2 [00:37<00:00, 18.96s/it]\n"
     ]
    }
   ],
   "source": [
    "models = [\"random\", \"graph_blf\", \"bert\", \"tf_idf\", \"mfcc_bow\", \"mfcc_stats\", \"blf_corr\", \"blf_ds\", \"blf_lf\", \"blf_sp\", \"blf_spc\", \"blf_vdsp\"]\n",
    "evaluation = []\n",
    "\n",
    "for model in tqdm(models):\n",
    "    inter_pred = np.loadtxt(f\"predictions/recs_{model}_10.csv\", delimiter=\"\\t\")\n",
    "    rat10 = recall_at_k(inter_pred, inter_true, 10)\n",
    "    pat10 = precision_at_k(inter_pred, inter_true, 10)\n",
    "    ndcgat10 = ndcg_at_k(inter_pred, inter_true, 10)\n",
    "    #rat20 = recall_at_k(inter_pred, inter_true, 20)\n",
    "    #pat20 = precision_at_k(inter_pred, inter_true, 20)\n",
    "    #ndcgat20 = ndcg_at_k(inter_pred, inter_true, 20)\n",
    "    mean_rr = mrr(inter_pred, inter_true)\n",
    "\n",
    "    evaluation.append({\n",
    "        \"model\": model,\n",
    "        \"recall@10\": rat10,\n",
    "        \"precision@10\": pat10,\n",
    "        \"ndcg@10\": ndcgat10,\n",
    "        #\"recall@20\": rat20,\n",
    "        #\"precision@20\": pat20,\n",
    "        #\"ndcg@20\": ndcgat20,\n",
    "        \"mrr\": mean_rr\n",
    "    })\n",
    "\n",
    "evaluation_df = pd.DataFrame(evaluation)"
   ]
  },
  {
   "cell_type": "code",
   "execution_count": 42,
   "metadata": {},
   "outputs": [
    {
     "data": {
      "text/html": [
       "<div>\n",
       "<style scoped>\n",
       "    .dataframe tbody tr th:only-of-type {\n",
       "        vertical-align: middle;\n",
       "    }\n",
       "\n",
       "    .dataframe tbody tr th {\n",
       "        vertical-align: top;\n",
       "    }\n",
       "\n",
       "    .dataframe thead th {\n",
       "        text-align: right;\n",
       "    }\n",
       "</style>\n",
       "<table border=\"1\" class=\"dataframe\">\n",
       "  <thead>\n",
       "    <tr style=\"text-align: right;\">\n",
       "      <th></th>\n",
       "      <th>model</th>\n",
       "      <th>recall@10</th>\n",
       "      <th>precision@10</th>\n",
       "      <th>ndcg@10</th>\n",
       "      <th>mrr</th>\n",
       "    </tr>\n",
       "  </thead>\n",
       "  <tbody>\n",
       "    <tr>\n",
       "      <th>0</th>\n",
       "      <td>random</td>\n",
       "      <td>0.001873</td>\n",
       "      <td>0.061791</td>\n",
       "      <td>0.061195</td>\n",
       "      <td>0.001658</td>\n",
       "    </tr>\n",
       "    <tr>\n",
       "      <th>1</th>\n",
       "      <td>graph_blf</td>\n",
       "      <td>0.007595</td>\n",
       "      <td>0.126476</td>\n",
       "      <td>0.130384</td>\n",
       "      <td>0.002313</td>\n",
       "    </tr>\n",
       "  </tbody>\n",
       "</table>\n",
       "</div>"
      ],
      "text/plain": [
       "       model  recall@10  precision@10   ndcg@10       mrr\n",
       "0     random   0.001873      0.061791  0.061195  0.001658\n",
       "1  graph_blf   0.007595      0.126476  0.130384  0.002313"
      ]
     },
     "execution_count": 42,
     "metadata": {},
     "output_type": "execute_result"
    }
   ],
   "source": [
    "evaluation_df"
   ]
  }
 ],
 "metadata": {
  "kernelspec": {
   "display_name": ".venv",
   "language": "python",
   "name": "python3"
  },
  "language_info": {
   "codemirror_mode": {
    "name": "ipython",
    "version": 3
   },
   "file_extension": ".py",
   "mimetype": "text/x-python",
   "name": "python",
   "nbconvert_exporter": "python",
   "pygments_lexer": "ipython3",
   "version": "3.12.4"
  }
 },
 "nbformat": 4,
 "nbformat_minor": 2
}
