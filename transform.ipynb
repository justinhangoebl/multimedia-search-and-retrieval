{
 "cells": [
  {
   "cell_type": "code",
   "execution_count": 14,
   "metadata": {},
   "outputs": [],
   "source": [
    "import pandas as pd\n",
    "import numpy as np"
   ]
  },
  {
   "cell_type": "code",
   "execution_count": 15,
   "metadata": {},
   "outputs": [],
   "source": [
    "infos = pd.read_csv(\"dataset/id_information_mmsr.tsv\", sep=\"\\t\")\n",
    "models = [\n",
    "    'shifted',\n",
    "    'p_shifted',\n",
    "    'exp',\n",
    "    'power',\n",
    "    'mmr'\n",
    "]"
   ]
  },
  {
   "cell_type": "code",
   "execution_count": 16,
   "metadata": {},
   "outputs": [],
   "source": [
    "for model in models:\n",
    "    df = []\n",
    "    matrix = np.loadtxt(f\"./predictions/rets_{model}_100_matrix.csv\", delimiter=\",\")\n",
    "    top_each = np.argsort(matrix, axis=1)[:,::-1][:,:100]\n",
    "    for query, topK in enumerate(top_each):\n",
    "        for top in topK:\n",
    "            df.append(\n",
    "                {\n",
    "                    'source_id': infos.iloc[query].id, \n",
    "                    'target_id': infos.iloc[top].id, \n",
    "                    'similarity': matrix[query, top]\n",
    "                })\n",
    "    pd.DataFrame(df).to_csv(f\"./predictions/ui/rets_{model}_100.csv\", index=False)\n",
    "    \n"
   ]
  }
 ],
 "metadata": {
  "kernelspec": {
   "display_name": ".venv",
   "language": "python",
   "name": "python3"
  },
  "language_info": {
   "codemirror_mode": {
    "name": "ipython",
    "version": 3
   },
   "file_extension": ".py",
   "mimetype": "text/x-python",
   "name": "python",
   "nbconvert_exporter": "python",
   "pygments_lexer": "ipython3",
   "version": "3.12.4"
  }
 },
 "nbformat": 4,
 "nbformat_minor": 2
}
