{
 "cells": [
  {
   "cell_type": "code",
   "execution_count": 1,
   "metadata": {},
   "outputs": [],
   "source": [
    "import pandas as pd\n",
    "import numpy as np\n",
    "from tqdm import tqdm\n",
    "import ast\n",
    "from similarity_measures import *\n",
    "import os"
   ]
  },
  {
   "cell_type": "code",
   "execution_count": 2,
   "metadata": {},
   "outputs": [],
   "source": [
    "def get_max_scorers(tags, genre_list):\n",
    "    only_tags = {}\n",
    "    for x in genre_list:\n",
    "        # tags[x] works only bercause eac genr is definetly in the tags\n",
    "        only_tags[x] = tags[x]\n",
    "\n",
    "    max_score = max(list(only_tags.values()))\n",
    "\n",
    "    return_list = []\n",
    "\n",
    "    for x in only_tags:\n",
    "        if only_tags[x] == max_score:\n",
    "            return_list.append(x)\n",
    "\n",
    "    return return_list\n",
    "\n",
    "def create_top_genres(infos, tags, genres):\n",
    "    # all genres per song; stored as a dict for easy retrieval\n",
    "    id_to_genres = genres.set_index('id')['genre'].to_dict()\n",
    "    id_to_tags = tags.set_index('id')['(tag, weight)'].to_dict()\n",
    "\n",
    "    # create return list dict for top genres\n",
    "    return_list = []\n",
    "    for i in tqdm(range(len(infos))):\n",
    "        id = infos.iloc[i]['id']\n",
    "        tags = ast.literal_eval(id_to_tags.get(id, '[]'))\n",
    "        genre_list = ast.literal_eval(id_to_genres.get(id, '[]'))\n",
    "        \n",
    "        top_genre = get_max_scorers(tags, genre_list)\n",
    "        return_list.append({'id': id, 'top_genre': top_genre})\n",
    "    \n",
    "    return pd.DataFrame(return_list)\n",
    "\n",
    "def jaccard_similarity_matrix(infos, top_genres):\n",
    "    id_to_top_genre = top_genres.set_index('id')['top_genre'].to_dict()\n",
    "    ids = infos['id'].tolist()\n",
    "\n",
    "    inter = np.zeros((len(infos), len(infos)))\n",
    "\n",
    "    for i in tqdm(range(len(infos))):\n",
    "        genres1 = id_to_top_genre.get(ids[i], [])\n",
    "\n",
    "        # important plus 1 to avoid self-similarity\n",
    "        for j in range(i+1, len(infos)):\n",
    "            genres2 = id_to_top_genre.get(ids[j], [])\n",
    "\n",
    "            sim = jaccard_similarity(genres1, genres2)\n",
    "            inter[i, j] = sim\n",
    "            inter[j, i] = sim\n",
    "\n",
    "    return inter\n",
    "\n",
    "def generate_binary_relevancy(inter_base, threshold):\n",
    "    inter = (inter_base > threshold).astype(int)\n",
    "    return inter"
   ]
  },
  {
   "cell_type": "code",
   "execution_count": 4,
   "metadata": {},
   "outputs": [
    {
     "name": "stderr",
     "output_type": "stream",
     "text": [
      "100%|██████████| 5148/5148 [00:01<00:00, 4321.31it/s]\n",
      "100%|██████████| 5148/5148 [00:16<00:00, 303.92it/s] \n"
     ]
    }
   ],
   "source": [
    "directory = \"./predictions\"\n",
    "if not os.path.exists(directory):\n",
    "    os.makedirs(directory)\n",
    "\n",
    "infos = pd.read_csv(\"./dataset/id_information_mmsr.tsv\", sep=\"\\t\")\n",
    "tags = pd.read_csv(\"./dataset/id_tags_dict.tsv\", sep=\"\\t\")\n",
    "genres = pd.read_csv(\"./dataset/id_genres_mmsr.tsv\", sep=\"\\t\")\n",
    "\n",
    "top_genres = create_top_genres(infos, tags, genres)\n",
    "top_genres.to_csv(\"./dataset/top_genres.tsv\", sep=\"\\t\", index=False)\n",
    "\n",
    "inter = jaccard_similarity_matrix(infos, top_genres)\n",
    "np.savetxt(\"./predictions/jaccard_similarity_matrix.csv\", inter, delimiter=\"\\t\")\n",
    "\n",
    "inter_binar_10 = generate_binary_relevancy(inter, 0.99999)\n",
    "inter_binar_075 = generate_binary_relevancy(inter, 0.75)\n",
    "inter_binar_05 = generate_binary_relevancy(inter, 0.5)\n",
    "inter_binar_025 = generate_binary_relevancy(inter, 0.25)\n",
    "inter_binar_00 = generate_binary_relevancy(inter, 0)\n",
    "np.savetxt(\"./predictions/binary_relevancy_matrix_10.csv\", inter_binar_10, delimiter=\"\\t\")\n",
    "np.savetxt(\"./predictions/binary_relevancy_matrix_075.csv\", inter_binar_075, delimiter=\"\\t\")\n",
    "np.savetxt(\"./predictions/binary_relevancy_matrix_05.csv\", inter_binar_05, delimiter=\"\\t\")\n",
    "np.savetxt(\"./predictions/binary_relevancy_matrix_025.csv\", inter_binar_025, delimiter=\"\\t\")\n",
    "np.savetxt(\"./predictions/binary_relevancy_matrix_00.csv\", inter_binar_00, delimiter=\"\\t\")"
   ]
  }
 ],
 "metadata": {
  "kernelspec": {
   "display_name": ".venv",
   "language": "python",
   "name": "python3"
  },
  "language_info": {
   "codemirror_mode": {
    "name": "ipython",
    "version": 3
   },
   "file_extension": ".py",
   "mimetype": "text/x-python",
   "name": "python",
   "nbconvert_exporter": "python",
   "pygments_lexer": "ipython3",
   "version": "3.12.4"
  }
 },
 "nbformat": 4,
 "nbformat_minor": 4
}
