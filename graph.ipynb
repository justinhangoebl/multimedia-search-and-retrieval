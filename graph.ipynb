{
 "cells": [
  {
   "cell_type": "code",
   "execution_count": 2,
   "metadata": {},
   "outputs": [
    {
     "name": "stderr",
     "output_type": "stream",
     "text": [
      "c:\\Users\\Justin\\Documents\\JKU\\2024WS\\multimedia-search-and-retrieval\\.venv\\Lib\\site-packages\\tqdm\\auto.py:21: TqdmWarning: IProgress not found. Please update jupyter and ipywidgets. See https://ipywidgets.readthedocs.io/en/stable/user_install.html\n",
      "  from .autonotebook import tqdm as notebook_tqdm\n"
     ]
    }
   ],
   "source": [
    "import pandas as pd\n",
    "import numpy as np\n",
    "from graph_mir import *\n",
    "from tqdm import tqdm"
   ]
  },
  {
   "cell_type": "code",
   "execution_count": 3,
   "metadata": {},
   "outputs": [
    {
     "name": "stderr",
     "output_type": "stream",
     "text": [
      "c:\\Users\\Justin\\Documents\\JKU\\2024WS\\multimedia-search-and-retrieval\\.venv\\Lib\\site-packages\\umap\\umap_.py:1952: UserWarning: n_jobs value 1 overridden to 1 by setting random_state. Use no seed for parallelism.\n",
      "  warn(\n",
      "Creating graph: 100%|██████████| 5148/5148 [01:56<00:00, 44.33it/s]\n"
     ]
    }
   ],
   "source": [
    "# Define feature files\n",
    "feature_files = {\n",
    "    'mfcc_bow': 'dataset/id_mfcc_bow_mmsr.tsv',\n",
    "    #'mfcc_stats': 'dataset/id_mfcc_stats_mmsr.tsv',\n",
    "\n",
    "    #'blf_correlation' : 'dataset/id_blf_correlation_mmsr.tsv',\n",
    "    #'blf_spectral': 'dataset/id_blf_spectral_mmsr.tsv',\n",
    "    #'blf_spectralcontrast': 'dataset/id_blf_spectralcontrast_mmsr.tsv',\n",
    "    #'blf_deltaspectral': 'dataset/id_blf_deltaspectral_mmsr.tsv',\n",
    "    #'blf_logfluc': 'dataset/id_blf_logfluc_mmsr.tsv',\n",
    "    #'blf_vardeltaspectral': 'dataset/id_blf_vardeltaspectral_mmsr.tsv',\n",
    "\n",
    "    'musicnn': 'dataset/id_musicnn_mmsr.tsv',\n",
    "\n",
    "    'lyrics_bert': 'dataset/id_lyrics_bert_mmsr.tsv',\n",
    "    #'lyrics_tf-idf': 'dataset/id_lyrics_tf-idf_mmsr.tsv',\n",
    "    #'lyrics_word2vec': 'dataset/id_lyrics_word2vec_mmsr.tsv',\n",
    "\n",
    "    'resnet': 'dataset/id_resnet_mmsr.tsv',\n",
    "    #'vgg': 'dataset/id_vgg19_mmsr.tsv'\n",
    "    #'incp': 'dataset/id_incp_mmsr.tsv'\n",
    "}\n",
    "\n",
    "# Initialize and load the music retrieval system\n",
    "music_system = MusicRetrievalSystemGraph(feature_files)\n",
    "music_system.load_features()\n",
    "\n",
    "# Create similarity graph\n",
    "music_system.create_similarity_graph(similarity_threshold=0.2)"
   ]
  },
  {
   "cell_type": "code",
   "execution_count": 4,
   "metadata": {},
   "outputs": [
    {
     "name": "stderr",
     "output_type": "stream",
     "text": [
      "  0%|          | 0/5148 [00:00<?, ?it/s]"
     ]
    },
    {
     "name": "stderr",
     "output_type": "stream",
     "text": [
      "100%|██████████| 5148/5148 [00:33<00:00, 152.29it/s]\n"
     ]
    },
    {
     "data": {
      "text/plain": [
       "283140.0"
      ]
     },
     "execution_count": 4,
     "metadata": {},
     "output_type": "execute_result"
    }
   ],
   "source": [
    "infos = pd.read_csv(\"dataset/id_information_mmsr.tsv\", sep=\"\\t\")\n",
    "\n",
    "song_ids = infos['id'].tolist()\n",
    "\n",
    "similarity_matrix = np.zeros((len(song_ids), len(song_ids)))\n",
    "\n",
    "# Create a dictionary to map song IDs to their respective index in the matrix\n",
    "song_id_to_index = {song_id: idx for idx, song_id in enumerate(song_ids)}\n",
    "\n",
    "# Populate the similarity matrix\n",
    "for idx, song in tqdm(infos.iterrows(), total=len(infos)):\n",
    "    reference_song_id = song['id']\n",
    "    reference_index = song_id_to_index[reference_song_id]\n",
    "    \n",
    "    # Find the similar songs\n",
    "    similar_songs = music_system.recommend_similar_tracks(reference_song_id, top_k=10)\n",
    "    \n",
    "    for i, similar_song_id in enumerate(similar_songs):\n",
    "        if similar_song_id in song_id_to_index:\n",
    "            similar_index = song_id_to_index[similar_song_id]\n",
    "            similarity_matrix[reference_index, similar_index] = 10 - i\n",
    "\n",
    "np.savetxt(\"./predictions/rets_graph_early_fusion_matrix_10.csv\", similarity_matrix, delimiter=\",\")\n",
    "similarity_matrix.sum()\n"
   ]
  },
  {
   "cell_type": "code",
   "execution_count": 5,
   "metadata": {},
   "outputs": [],
   "source": [
    "#infos = pd.read_csv(\"dataset/id_information_mmsr.tsv\", sep=\"\\t\")\n",
    "#\n",
    "#song_ids = infos['id'].tolist()\n",
    "#\n",
    "#similarity_matrix = np.zeros((len(song_ids), len(song_ids)))\n",
    "#\n",
    "## Create a dictionary to map song IDs to their respective index in the matrix\n",
    "#song_id_to_index = {song_id: idx for idx, song_id in enumerate(song_ids)}\n",
    "#\n",
    "## Populate the similarity matrix\n",
    "#for idx, song in tqdm(infos.iterrows(), total=len(infos)):\n",
    "#    reference_song_id = song['id']\n",
    "#    reference_index = song_id_to_index[reference_song_id]\n",
    "#    \n",
    "#    # Find the similar songs\n",
    "#    similar_songs = music_system.personalized_recommendation(reference_song_id, top_k=10)\n",
    "#    \n",
    "#    for i, similar_song_id in enumerate(similar_songs):\n",
    "#        if similar_song_id[0] in song_id_to_index:\n",
    "#            similar_index = song_id_to_index[similar_song_id[0]]\n",
    "#            similarity_matrix[reference_index, similar_index] = 10 - i\n",
    "#\n",
    "#np.savetxt(\"y.csv\", similarity_matrix, delimiter=\"\\t\")"
   ]
  }
 ],
 "metadata": {
  "kernelspec": {
   "display_name": ".venv",
   "language": "python",
   "name": "python3"
  },
  "language_info": {
   "codemirror_mode": {
    "name": "ipython",
    "version": 3
   },
   "file_extension": ".py",
   "mimetype": "text/x-python",
   "name": "python",
   "nbconvert_exporter": "python",
   "pygments_lexer": "ipython3",
   "version": "3.12.4"
  }
 },
 "nbformat": 4,
 "nbformat_minor": 2
}
