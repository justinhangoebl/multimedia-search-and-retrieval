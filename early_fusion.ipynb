{
 "cells": [
  {
   "cell_type": "code",
   "execution_count": 17,
   "metadata": {},
   "outputs": [],
   "source": [
    "import pandas as pd\n",
    "import numpy as np\n",
    "from late_fusion import *\n",
    "from experimental_metrics import *\n",
    "from single_modal_vector_retrieval import *\n",
    "from early_fusion import *\n",
    "from late_fusion import *\n",
    "from metadata_graph import *\n",
    "from random_sample import *\n",
    "from itertools import combinations\n",
    "%matplotlib inline"
   ]
  },
  {
   "cell_type": "code",
   "execution_count": 18,
   "metadata": {},
   "outputs": [],
   "source": [
    "\n",
    "infos = pd.read_csv(\"dataset/id_information_mmsr.tsv\", sep=\"\\t\")\n",
    "\n",
    "song_ids = infos['id'].tolist()\n",
    "song_id_to_index = {song_id: idx for idx, song_id in enumerate(song_ids)}\n",
    "inter_true = np.loadtxt(\"./predictions/binary_relevancy_matrix_0000.csv\", delimiter=\"\\t\")"
   ]
  },
  {
   "cell_type": "code",
   "execution_count": 19,
   "metadata": {},
   "outputs": [],
   "source": [
    "def gen(feature_files, feature_weights):\n",
    "    retrieval = MultiModalEarlyFusionRetrieval()\n",
    "    retrieval.load_and_normalize_features(feature_files)\n",
    "\n",
    "    retrieval.fuse_features(feature_weights)\n",
    "\n",
    "    results = retrieval.batch_similarity_search(song_ids, top_k=100)\n",
    "\n",
    "    results_df = pd.DataFrame(results)\n",
    "    inter_matr = np.zeros((len(infos), len(infos)))\n",
    "\n",
    "\n",
    "    for _, row in tqdm(results_df.iterrows(), desc=\"generate matrix\", total=len(results_df)):\n",
    "        source = row[\"source_id\"]\n",
    "        target = row[\"target_id\"]\n",
    "        inter_matr[song_id_to_index[source], song_id_to_index[target]] = row[\"similarity\"]\n",
    "\n",
    "    return inter_matr"
   ]
  },
  {
   "cell_type": "code",
   "execution_count": 20,
   "metadata": {},
   "outputs": [],
   "source": [
    "\n",
    "\n",
    "feature_files = {\n",
    "    'mfcc_bow': 'dataset/id_mfcc_bow_mmsr.tsv',\n",
    "    #'mfcc_stats': 'dataset/id_mfcc_stats_mmsr.tsv',\n",
    "\n",
    "    #'blf_correlation' : 'dataset/id_blf_correlation_mmsr.tsv',\n",
    "    #'blf_spectral': 'dataset/id_blf_spectral_mmsr.tsv',\n",
    "    #'blf_spectralcontrast': 'dataset/id_blf_spectralcontrast_mmsr.tsv',\n",
    "    #'blf_deltaspectral': 'dataset/id_blf_deltaspectral_mmsr.tsv',\n",
    "    #'blf_logfluc': 'dataset/id_blf_logfluc_mmsr.tsv',\n",
    "    #'blf_vardeltaspectral': 'dataset/id_blf_vardeltaspectral_mmsr.tsv',\n",
    "\n",
    "    'musicnn': 'dataset/id_musicnn_mmsr.tsv',\n",
    "\n",
    "    'lyrics_bert': 'dataset/id_lyrics_bert_mmsr.tsv',\n",
    "    #'lyrics_tf-idf': 'dataset/id_lyrics_tf-idf_mmsr.tsv',\n",
    "    #'lyrics_word2vec': 'dataset/id_lyrics_word2vec_mmsr.tsv',\n",
    "\n",
    "    'resnet': 'dataset/id_resnet_mmsr.tsv',\n",
    "    #'vgg': 'dataset/id_vgg19_mmsr.tsv'\n",
    "    #'incp': 'dataset/id_incp_mmsr.tsv'\n",
    "}\n",
    "\n",
    "\n",
    "feature_weights = [\n",
    "    ('mfcc_bow', 0.25),\n",
    "    #('mfcc_stats', 0.4),\n",
    "\n",
    "    #('blf_correlation', 0.4),\n",
    "    #('blf_spectral', 0.4),\n",
    "    #('blf_spectralcontrast', 0.4),\n",
    "    #('blf_deltaspectral', 0.4),\n",
    "    #('blf_logfluc', 0.4),\n",
    "    #('blf_vardeltaspectral', 0.4),\n",
    "\n",
    "    ('musicnn', 0.25),\n",
    "\n",
    "    ('lyrics_bert', 0.25),\n",
    "    #('lyrics_tf-idf', 0.4),\n",
    "    #('lyrics_word2vec', 0.4),\n",
    "\n",
    "    ('resnet', 0.25),\n",
    "    #('vgg', 0.4),\n",
    "    #('incp', 0.4)\n",
    "]\n",
    "\n"
   ]
  },
  {
   "cell_type": "code",
   "execution_count": 22,
   "metadata": {},
   "outputs": [],
   "source": [
    "feature_files_1 = {\n",
    "    'mfcc_bow': 'dataset/id_mfcc_bow_mmsr.tsv',\n",
    "    'musicnn': 'dataset/id_musicnn_mmsr.tsv',\n",
    "\n",
    "    'lyrics_bert': 'dataset/id_lyrics_bert_mmsr.tsv',\n",
    "    'lyrics_tf-idf': 'dataset/id_lyrics_tf-idf_mmsr.tsv',\n",
    "\n",
    "    'resnet': 'dataset/id_resnet_mmsr.tsv',\n",
    "    'vgg': 'dataset/id_vgg19_mmsr.tsv',\n",
    "}\n",
    "\n",
    "feature_weights_1 = {    \n",
    "    'mfcc_bow':                 0.6,\n",
    "    'musicnn':                  0.6,\n",
    "\n",
    "    'lyrics_bert':              0.4,\n",
    "    'lyrics_tf-idf':            0.4,\n",
    "\n",
    "    'resnet':                   0.2,\n",
    "    'vgg':                      0.2,\n",
    "}\n",
    "\n",
    "feature_keys = list(feature_files_1.keys())\n",
    "all_combinations = {}\n",
    "\n",
    "for r in range(4, len(feature_keys) + 1):\n",
    "    for combo in combinations(feature_keys, r):\n",
    "        all_combinations[combo] = {\n",
    "            'files': {k: feature_files_1[k] for k in combo},\n",
    "            'weights': [(k, feature_weights_1[k]) for k in combo]\n",
    "        }\n"
   ]
  },
  {
   "cell_type": "code",
   "execution_count": null,
   "metadata": {},
   "outputs": [
    {
     "name": "stdout",
     "output_type": "stream",
     "text": [
      "22\n",
      "{'files': {'mfcc_bow': 'dataset/id_mfcc_bow_mmsr.tsv', 'musicnn': 'dataset/id_musicnn_mmsr.tsv', 'lyrics_bert': 'dataset/id_lyrics_bert_mmsr.tsv', 'lyrics_tf-idf': 'dataset/id_lyrics_tf-idf_mmsr.tsv'}, 'weights': [('mfcc_bow', 0.6), ('musicnn', 0.6), ('lyrics_bert', 0.4), ('lyrics_tf-idf', 0.4)]}\n",
      "Using 4 cores for batch similarity search.\n"
     ]
    },
    {
     "name": "stderr",
     "output_type": "stream",
     "text": [
      "Performing Similarity Search: 10296it [04:51, 35.28it/s]                         \n",
      "generate matrix: 100%|██████████| 514800/514800 [00:26<00:00, 19557.99it/s]\n"
     ]
    },
    {
     "name": "stdout",
     "output_type": "stream",
     "text": [
      "{'files': {'mfcc_bow': 'dataset/id_mfcc_bow_mmsr.tsv', 'musicnn': 'dataset/id_musicnn_mmsr.tsv', 'lyrics_bert': 'dataset/id_lyrics_bert_mmsr.tsv', 'resnet': 'dataset/id_resnet_mmsr.tsv'}, 'weights': [('mfcc_bow', 0.6), ('musicnn', 0.6), ('lyrics_bert', 0.4), ('resnet', 0.2)]}\n",
      "Using 4 cores for batch similarity search.\n"
     ]
    },
    {
     "name": "stderr",
     "output_type": "stream",
     "text": [
      "Performing Similarity Search: 10296it [09:24, 18.23it/s]                         \n",
      "generate matrix: 100%|██████████| 514800/514800 [00:26<00:00, 19684.86it/s]\n"
     ]
    },
    {
     "name": "stdout",
     "output_type": "stream",
     "text": [
      "{'files': {'mfcc_bow': 'dataset/id_mfcc_bow_mmsr.tsv', 'musicnn': 'dataset/id_musicnn_mmsr.tsv', 'lyrics_bert': 'dataset/id_lyrics_bert_mmsr.tsv', 'vgg': 'dataset/id_vgg19_mmsr.tsv'}, 'weights': [('mfcc_bow', 0.6), ('musicnn', 0.6), ('lyrics_bert', 0.4), ('vgg', 0.2)]}\n",
      "Using 4 cores for batch similarity search.\n"
     ]
    },
    {
     "name": "stderr",
     "output_type": "stream",
     "text": [
      "Performing Similarity Search:  28%|██▊       | 1434/5148 [04:43<10:39,  5.81it/s]"
     ]
    }
   ],
   "source": [
    "print(len(all_combinations))\n",
    "\n",
    "evaluation = []\n",
    "topK = 10\n",
    "\n",
    "for i, combo in enumerate(all_combinations.items()):\n",
    "    name, data = combo\n",
    "    print(data)\n",
    "    inter_pred = gen(data['files'], data['weights'])\n",
    "\n",
    "    ratk = recall_at_k(inter_pred, inter_true, k=topK)\n",
    "    patk = precision_at_k(inter_pred, inter_true, k=topK)\n",
    "    ndcgatk = ndcg_at_k(inter_pred, inter_true, k=topK)\n",
    "    mean_rr = mrr(inter_pred, inter_true)\n",
    "    evaluation.append({\n",
    "        f\"combinations\": name,\n",
    "        f\"recall@{topK}\": ratk,\n",
    "        f\"precision@{topK}\": patk,\n",
    "        f\"ndcg@{topK}\": ndcgatk,\n",
    "        f\"mrr\": mean_rr\n",
    "    })"
   ]
  },
  {
   "cell_type": "code",
   "execution_count": null,
   "metadata": {},
   "outputs": [],
   "source": [
    "evaluation_df = pd.DataFrame(evaluation)\n",
    "evaluation_df.to_csv(\"evaluation2.csv\", index=False)\n",
    "evaluation_df = pd.read_csv(\"evaluation2.csv\")\n",
    "\n",
    "# Set figure size\n",
    "plt.figure(figsize=(12, 12))\n",
    "\n",
    "# Bar chart positions\n",
    "x = np.arange(len(evaluation_df[\"combinations\"]))\n",
    "width = 0.2  # Width of bars\n",
    "\n",
    "# Plot bars for each metric\n",
    "plt.bar(x - width*1.5, evaluation_df[\"Recall@10\"], width, label=\"Recall@10\")\n",
    "plt.bar(x - width/2, evaluation_df[\"Precision@10\"], width, label=\"Precision@10\")\n",
    "plt.bar(x + width/2, evaluation_df[\"nDCG@10\"], width, label=\"nDCG@10\")\n",
    "plt.bar(x + width*1.5, evaluation_df[\"MRR\"], width, label=\"MRR\")\n",
    "\n",
    "# Formatting\n",
    "plt.xticks(ticks = x, labels=evaluation_df[\"combinations\"], rotation=45, ha=\"right\")\n",
    "plt.xlabel(\"Combinations\")\n",
    "plt.ylabel(\"Scores\")\n",
    "plt.title(\"Comparison of Metrics Across Feature Combinations\")\n",
    "plt.legend()\n",
    "plt.tight_layout()\n",
    "\n",
    "# Show plot\n",
    "plt.show()\n"
   ]
  }
 ],
 "metadata": {
  "kernelspec": {
   "display_name": ".venv",
   "language": "python",
   "name": "python3"
  },
  "language_info": {
   "codemirror_mode": {
    "name": "ipython",
    "version": 3
   },
   "file_extension": ".py",
   "mimetype": "text/x-python",
   "name": "python",
   "nbconvert_exporter": "python",
   "pygments_lexer": "ipython3",
   "version": "3.12.4"
  }
 },
 "nbformat": 4,
 "nbformat_minor": 2
}
