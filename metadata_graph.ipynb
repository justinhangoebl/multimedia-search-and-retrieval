{
 "cells": [
  {
   "cell_type": "code",
   "execution_count": 8,
   "metadata": {},
   "outputs": [
    {
     "name": "stderr",
     "output_type": "stream",
     "text": [
      "c:\\Users\\Justin\\Documents\\JKU\\2024WS\\multimedia-search-and-retrieval\\.venv\\Lib\\site-packages\\tqdm_joblib\\__init__.py:4: TqdmWarning: IProgress not found. Please update jupyter and ipywidgets. See https://ipywidgets.readthedocs.io/en/stable/user_install.html\n",
      "  from tqdm.autonotebook import tqdm\n"
     ]
    }
   ],
   "source": [
    "import numpy as np\n",
    "import pandas as pd\n",
    "import ast\n",
    "from tqdm import tqdm\n",
    "import matplotlib.pyplot as plt\n",
    "from networkx.algorithms.community import louvain_communities\n",
    "from metadata_graph import *\n",
    "matplotlib.use('TkAgg')"
   ]
  },
  {
   "cell_type": "code",
   "execution_count": 9,
   "metadata": {},
   "outputs": [],
   "source": [
    "infos = pd.read_csv('dataset/id_information_mmsr.tsv', sep='\\t')\n",
    "metadata = pd.read_csv('dataset/id_metadata_mmsr.tsv', sep='\\t')\n",
    "tags = pd.read_csv('dataset/id_tags_dict.tsv', sep='\\t')\n",
    "genres_base = pd.read_csv('dataset/top_genres.tsv', sep='\\t')"
   ]
  },
  {
   "cell_type": "markdown",
   "metadata": {},
   "source": [
    "## Metadata Information\n",
    "\n",
    "\n",
    "\n",
    "| **Attribute**   | **Description**                                                                                                                                     |\n",
    "|------------------|-----------------------------------------------------------------------------------------------------------------------------------------------------|\n",
    "| **id**          | Unique 16-character identifier for the song in the database.                                                                                       |\n",
    "| **artist**       | Name of the artist that published the song on last.fm. There are 16,269 unique artists in the database.                                            |\n",
    "| **song**         | Name of the song.                                                                                                                                  |\n",
    "| **lang**         | Language assigned to the lyrics by the tool langdetect. There are 46 unique languages in the database.                                             |\n",
    "| **spotify id**   | Song identifier in the Spotify application.                                                                                                       |\n",
    "| **popularity**   | Integer value ranging from 0 to 100 representing how popular a song is on Spotify. This value is based on the total number of plays and recency.   |\n",
    "| **album name**   | Name of the album that the song is in. There are 38,363 different albums in the database.                                                          |\n",
    "| **release**      | Year in which the song was released.                                                                                                               |\n",
    "| **danceability** | Real value ranging from 0.0 to 1.0 representing how suitable the song is for dancing, based on musical elements provided by the Spotify API.       |\n",
    "| **energy**       | Real value ranging from 0.0 to 1.0 provided by the Spotify API that is a perceptual measure of intensity and activity.                             |\n",
    "| **key**          | Overall key of the song, using standard Pitch Class notation, provided by the Spotify API.                                                        |\n",
    "| **mode**         | Binary value provided by the Spotify API corresponding to the modality of the song, where major is represented by 1 and minor by 0.                |\n",
    "| **valence**      | Real value ranging from 0.0 to 1.0 provided by the Spotify API that measures how positive a song is.                                               |\n",
    "| **tempo**        | Speed or pace of the song, measured in beats per minute (BPM), provided by the Spotify API.                                                        |\n",
    "| **genres**       | List of genre tags associated with the song. There are 853 unique genre tags in the database.                                                      |\n",
    "| **tags**         | User-given tags from the last.fm application.                                                                                                      |\n"
   ]
  },
  {
   "cell_type": "code",
   "execution_count": 10,
   "metadata": {},
   "outputs": [],
   "source": [
    "genres = genres_base.copy()\n",
    "genres['top_genre'] = genres_base['top_genre'].apply(ast.literal_eval)\n",
    "exp_genres = genres.explode('top_genre').reset_index(drop=True)\n",
    "genre_amount = exp_genres['top_genre'].value_counts()\n",
    "unique_genres_amount = len(list(set(list(genre_amount))))\n",
    "\n",
    "threshold = 50\n",
    "filtered_genre_counts = genre_amount[genre_amount >= threshold]"
   ]
  },
  {
   "cell_type": "code",
   "execution_count": 11,
   "metadata": {},
   "outputs": [
    {
     "name": "stderr",
     "output_type": "stream",
     "text": [
      "100%|██████████| 5148/5148 [01:34<00:00, 54.25it/s] \n"
     ]
    }
   ],
   "source": [
    "graph = GraphMetaData()\n",
    "#graph.generate_graph()\n",
    "graph.generate_multigraph()\n",
    "\n",
    "communities = louvain_communities(graph.graph, weight='weight')"
   ]
  },
  {
   "cell_type": "code",
   "execution_count": 18,
   "metadata": {},
   "outputs": [
    {
     "name": "stderr",
     "output_type": "stream",
     "text": [
      "Processing for UI:   0%|          | 1/5148 [00:00<15:37,  5.49it/s]"
     ]
    },
    {
     "name": "stderr",
     "output_type": "stream",
     "text": [
      "Processing for UI: 100%|██████████| 5148/5148 [01:05<00:00, 78.57it/s] \n",
      "Processing for UI: 100%|██████████| 5148/5148 [01:05<00:00, 78.91it/s] \n"
     ]
    }
   ],
   "source": [
    "nn_df = graph.batch_nearest_neighbor(infos, topK=100)\n",
    "com_df = graph.batch_community_search(infos[\"id\"].values, topK=100)\n",
    "\n",
    "nn_df.to_csv('./predictions/ui/rets_mgm_nn_100.csv', sep=',', index=False)\n",
    "com_df.to_csv('./predictions/ui/rets_mgm_comm_100.csv', sep=',', index=False)"
   ]
  },
  {
   "cell_type": "code",
   "execution_count": 16,
   "metadata": {},
   "outputs": [
    {
     "name": "stderr",
     "output_type": "stream",
     "text": [
      "Transforming to matrix: 100%|██████████| 51480/51480 [00:05<00:00, 10102.17it/s]\n"
     ]
    }
   ],
   "source": [
    "id_to_index = {row['id']: idx for idx, row in infos.iterrows()}\n",
    "inter_mat = np.zeros((len(infos), len(infos)))\n",
    "\n",
    "# Transform to matrix using the precomputed dictionary\n",
    "for idx, row in tqdm(nn_df.iterrows(), total=len(nn_df), desc=\"Transforming to matrix\"):\n",
    "    source_idx = id_to_index[row['source_id']]\n",
    "    target_idx = id_to_index[row['target_id']]\n",
    "    inter_mat[source_idx, target_idx] = row['similarity']\n",
    "\n",
    "np.savetxt('./predictions/rets_mgm_nn_100_matrix.csv', inter_mat, delimiter=\",\")"
   ]
  },
  {
   "cell_type": "code",
   "execution_count": 17,
   "metadata": {},
   "outputs": [
    {
     "name": "stderr",
     "output_type": "stream",
     "text": [
      "Transforming to matrix: 100%|██████████| 51480/51480 [00:04<00:00, 10705.17it/s]\n"
     ]
    }
   ],
   "source": [
    "id_to_index = {row['id']: idx for idx, row in infos.iterrows()}\n",
    "inter_mat = np.zeros((len(infos), len(infos)))\n",
    "\n",
    "# Transform to matrix using the precomputed dictionary\n",
    "for idx, row in tqdm(com_df.iterrows(), total=len(com_df), desc=\"Transforming to matrix\"):\n",
    "    source_idx = id_to_index[row['source_id']]\n",
    "    target_idx = id_to_index[row['target_id']]\n",
    "    inter_mat[source_idx, target_idx] = row['similarity']\n",
    "\n",
    "np.savetxt('./predictions/rets_mgm_comm_100_matrix.csv', inter_mat, delimiter=\",\")"
   ]
  }
 ],
 "metadata": {
  "kernelspec": {
   "display_name": ".venv",
   "language": "python",
   "name": "python3"
  },
  "language_info": {
   "codemirror_mode": {
    "name": "ipython",
    "version": 3
   },
   "file_extension": ".py",
   "mimetype": "text/x-python",
   "name": "python",
   "nbconvert_exporter": "python",
   "pygments_lexer": "ipython3",
   "version": "3.12.4"
  }
 },
 "nbformat": 4,
 "nbformat_minor": 2
}
