{
 "cells": [
  {
   "cell_type": "code",
   "execution_count": 8,
   "id": "c5604262-665e-43b3-8ead-4ee9519023ef",
   "metadata": {},
   "outputs": [],
   "source": [
    "import pandas as pd\n",
    "import numpy as np\n",
    "from tqdm import tqdm\n",
    "import ast\n",
    "from experimental_metrics import *"
   ]
  },
  {
   "cell_type": "code",
   "execution_count": 9,
   "id": "12e01fc0-ba66-4af3-a15f-a4220eedc71c",
   "metadata": {},
   "outputs": [],
   "source": [
    "popularity_df = pd.read_csv(\"dataset/id_metadata_mmsr.tsv\", sep=\"\\t\")\n",
    "popularity = popularity_df['popularity'].values\n",
    "pop = pd.read_csv(\"dataset/id_total_listens.tsv\", sep=\"\\t\")['total_listens'].values\n",
    "infos = pd.read_csv(\"dataset/id_information_mmsr.tsv\", sep=\"\\t\")\n",
    "inter_true = np.loadtxt(\"./predictions/binary_relevancy_matrix_00.csv\", delimiter=\"\\t\")\n",
    "tags = pd.read_csv(\"./dataset/id_tags_dict.tsv\", sep=\"\\t\")\n",
    "genres = pd.read_csv(\"./dataset/id_genres_mmsr.tsv\", sep=\"\\t\")"
   ]
  },
  {
   "cell_type": "code",
   "execution_count": 10,
   "id": "0703fcfa-f027-4286-b12a-31431bafec87",
   "metadata": {},
   "outputs": [],
   "source": [
    "models = [\n",
    "    'random',\n",
    "    #'lyrics_bert',\n",
    "    #'mfcc_bow',\n",
    "    #'mfcc_stats_gaussian_jensen',\n",
    "    #'musicnn',\n",
    "    #'resnet',\n",
    "    #'early_fusion',\n",
    "    #'graph_early_fusion',\n",
    "    #'late_fusion',\n",
    "    #'simple_late',\n",
    "    #'simple_late_norm',\n",
    "    #'gm_nearest_neighbor',\n",
    "    #'gm_community',\n",
    "    #'mgm_nearest_neighbor',\n",
    "    #'mgm_community'\n",
    "]\n",
    "evaluation = []\n",
    "\n",
    "for model in models:\n",
    "    inter_pred = np.loadtxt(f\"predictions/rets_{model}_matrix_10.csv\", delimiter=\",\")\n",
    "    pop_at_10 = avg_popularity_at_k(inter_pred, popularity, 10)\n",
    "    pop_at_10_2 = avg_popularity_at_k(inter_pred, pop, 10)\n",
    "    cov_at_10 = avg_coverage_at_k(inter_pred, inter_true.shape[0], 10)\n",
    "    nov_at_10 = novelty_at_k(inter_pred, popularity, 10)\n",
    "    div_at_10 = diversity_at_k(inter_pred,tags, genres, k=10)\n",
    "\n",
    "    evaluation.append({\n",
    "        \"model\": model,\n",
    "        \"pop-sp@10\": pop_at_10,\n",
    "        \"pop-lfm@10\": pop_at_10_2,\n",
    "        \"cov@10\": cov_at_10,\n",
    "        \"nov@10\": nov_at_10,\n",
    "        \"div@10\": div_at_10\n",
    "    })\n",
    "\n",
    "evaluation_df = pd.DataFrame(evaluation)"
   ]
  },
  {
   "cell_type": "code",
   "execution_count": 11,
   "id": "894ed5e7-03a3-4d59-a926-3581ad81facc",
   "metadata": {},
   "outputs": [
    {
     "data": {
      "text/html": [
       "<div>\n",
       "<style scoped>\n",
       "    .dataframe tbody tr th:only-of-type {\n",
       "        vertical-align: middle;\n",
       "    }\n",
       "\n",
       "    .dataframe tbody tr th {\n",
       "        vertical-align: top;\n",
       "    }\n",
       "\n",
       "    .dataframe thead th {\n",
       "        text-align: right;\n",
       "    }\n",
       "</style>\n",
       "<table border=\"1\" class=\"dataframe\">\n",
       "  <thead>\n",
       "    <tr style=\"text-align: right;\">\n",
       "      <th></th>\n",
       "      <th>model</th>\n",
       "      <th>pop-sp@10</th>\n",
       "      <th>pop-lfm@10</th>\n",
       "      <th>cov@10</th>\n",
       "      <th>nov@10</th>\n",
       "      <th>div@10</th>\n",
       "    </tr>\n",
       "  </thead>\n",
       "  <tbody>\n",
       "    <tr>\n",
       "      <th>0</th>\n",
       "      <td>random</td>\n",
       "      <td>1.004392</td>\n",
       "      <td>1.010416</td>\n",
       "      <td>0.864025</td>\n",
       "      <td>-4.962516</td>\n",
       "      <td>0.949573</td>\n",
       "    </tr>\n",
       "  </tbody>\n",
       "</table>\n",
       "</div>"
      ],
      "text/plain": [
       "    model  pop-sp@10  pop-lfm@10    cov@10    nov@10    div@10\n",
       "0  random   1.004392    1.010416  0.864025 -4.962516  0.949573"
      ]
     },
     "execution_count": 11,
     "metadata": {},
     "output_type": "execute_result"
    }
   ],
   "source": [
    "evaluation_df"
   ]
  }
 ],
 "metadata": {
  "kernelspec": {
   "display_name": ".venv",
   "language": "python",
   "name": "python3"
  },
  "language_info": {
   "codemirror_mode": {
    "name": "ipython",
    "version": 3
   },
   "file_extension": ".py",
   "mimetype": "text/x-python",
   "name": "python",
   "nbconvert_exporter": "python",
   "pygments_lexer": "ipython3",
   "version": "3.12.4"
  }
 },
 "nbformat": 4,
 "nbformat_minor": 5
}
