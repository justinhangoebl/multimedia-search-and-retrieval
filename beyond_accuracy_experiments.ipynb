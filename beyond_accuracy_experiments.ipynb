{
 "cells": [
  {
   "cell_type": "code",
   "execution_count": 5,
   "id": "c5604262-665e-43b3-8ead-4ee9519023ef",
   "metadata": {},
   "outputs": [],
   "source": [
    "import pandas as pd\n",
    "import numpy as np\n",
    "from tqdm import tqdm\n",
    "import ast\n",
    "from experimental_metrics import *"
   ]
  },
  {
   "cell_type": "code",
   "execution_count": 6,
   "id": "12e01fc0-ba66-4af3-a15f-a4220eedc71c",
   "metadata": {},
   "outputs": [],
   "source": [
    "popularity_df = pd.read_csv(\"dataset/id_metadata_mmsr.tsv\", sep=\"\\t\")\n",
    "popularity = popularity_df['popularity'].values\n",
    "infos = pd.read_csv(\"dataset/id_information_mmsr.tsv\", sep=\"\\t\")\n",
    "inter_true = np.loadtxt(\"./predictions/binary_relevancy_matrix_00.csv\", delimiter=\"\\t\")\n",
    "tags = pd.read_csv(\"./dataset/id_tags_dict.tsv\", sep=\"\\t\")\n",
    "genres = pd.read_csv(\"./dataset/id_genres_mmsr.tsv\", sep=\"\\t\")"
   ]
  },
  {
   "cell_type": "code",
   "execution_count": 7,
   "id": "0703fcfa-f027-4286-b12a-31431bafec87",
   "metadata": {},
   "outputs": [
    {
     "name": "stderr",
     "output_type": "stream",
     "text": [
      "100%|██████████| 4/4 [00:42<00:00, 10.51s/it]\n"
     ]
    }
   ],
   "source": [
    "models = ['gm_nearest_neighbor_matrix', 'gm_community_matrix', 'early_fusion_matrix', 'late_fusion_matrix'] #, \"random\", \"bert\", \"bert_adv\", \"mfcc_bow\", \"mfcc_stats\", \"tf_idf\", \"item_item\", \"word2vec\", \"ivec\", \"vgg19\", \"resnet\", \"incp\", \"genre_tags\"]\n",
    "evaluation = []\n",
    "\n",
    "for model in tqdm(models):\n",
    "    inter_pred = np.loadtxt(f\"predictions/rets_{model}_10.csv\", delimiter=\",\")\n",
    "    pop_at_10 = avg_popularity_at_k(inter_pred, popularity, 10)\n",
    "    cov_at_10 = avg_coverage_at_k(inter_pred, inter_true.shape[0], 10)\n",
    "    ild_at_10 = intra_list_diversity_at_k(inter_pred, inter_true, 10)\n",
    "    nov_at_10 = novelty_at_k(inter_pred, popularity, 10)\n",
    "    div_at_10 = diversity_at_k(inter_pred, tags, genres, 10)\n",
    "\n",
    "    evaluation.append({\n",
    "        \"model\": model,\n",
    "        \"pop@10\": pop_at_10,\n",
    "        \"cov@10\": cov_at_10,\n",
    "        \"ild@10\": ild_at_10,\n",
    "        \"nov@10\": nov_at_10,\n",
    "        \"div@10\": div_at_10\n",
    "    })\n",
    "\n",
    "evaluation_df = pd.DataFrame(evaluation)"
   ]
  },
  {
   "cell_type": "code",
   "execution_count": 8,
   "id": "894ed5e7-03a3-4d59-a926-3581ad81facc",
   "metadata": {},
   "outputs": [
    {
     "data": {
      "text/html": [
       "<div>\n",
       "<style scoped>\n",
       "    .dataframe tbody tr th:only-of-type {\n",
       "        vertical-align: middle;\n",
       "    }\n",
       "\n",
       "    .dataframe tbody tr th {\n",
       "        vertical-align: top;\n",
       "    }\n",
       "\n",
       "    .dataframe thead th {\n",
       "        text-align: right;\n",
       "    }\n",
       "</style>\n",
       "<table border=\"1\" class=\"dataframe\">\n",
       "  <thead>\n",
       "    <tr style=\"text-align: right;\">\n",
       "      <th></th>\n",
       "      <th>model</th>\n",
       "      <th>pop@10</th>\n",
       "      <th>cov@10</th>\n",
       "      <th>ild@10</th>\n",
       "      <th>nov@10</th>\n",
       "      <th>div@10</th>\n",
       "    </tr>\n",
       "  </thead>\n",
       "  <tbody>\n",
       "    <tr>\n",
       "      <th>0</th>\n",
       "      <td>gm_nearest_neighbor_matrix</td>\n",
       "      <td>1.007511</td>\n",
       "      <td>0.990482</td>\n",
       "      <td>0.818523</td>\n",
       "      <td>-4.986068</td>\n",
       "      <td>28.562354</td>\n",
       "    </tr>\n",
       "    <tr>\n",
       "      <th>1</th>\n",
       "      <td>gm_community_matrix</td>\n",
       "      <td>1.035838</td>\n",
       "      <td>0.336053</td>\n",
       "      <td>0.906958</td>\n",
       "      <td>-5.044464</td>\n",
       "      <td>28.710179</td>\n",
       "    </tr>\n",
       "    <tr>\n",
       "      <th>2</th>\n",
       "      <td>early_fusion_matrix</td>\n",
       "      <td>1.039066</td>\n",
       "      <td>0.911616</td>\n",
       "      <td>0.878071</td>\n",
       "      <td>-5.029917</td>\n",
       "      <td>28.618493</td>\n",
       "    </tr>\n",
       "    <tr>\n",
       "      <th>3</th>\n",
       "      <td>late_fusion_matrix</td>\n",
       "      <td>1.021345</td>\n",
       "      <td>0.953768</td>\n",
       "      <td>0.830104</td>\n",
       "      <td>-4.993040</td>\n",
       "      <td>28.419969</td>\n",
       "    </tr>\n",
       "  </tbody>\n",
       "</table>\n",
       "</div>"
      ],
      "text/plain": [
       "                        model    pop@10    cov@10    ild@10    nov@10  \\\n",
       "0  gm_nearest_neighbor_matrix  1.007511  0.990482  0.818523 -4.986068   \n",
       "1         gm_community_matrix  1.035838  0.336053  0.906958 -5.044464   \n",
       "2         early_fusion_matrix  1.039066  0.911616  0.878071 -5.029917   \n",
       "3          late_fusion_matrix  1.021345  0.953768  0.830104 -4.993040   \n",
       "\n",
       "      div@10  \n",
       "0  28.562354  \n",
       "1  28.710179  \n",
       "2  28.618493  \n",
       "3  28.419969  "
      ]
     },
     "execution_count": 8,
     "metadata": {},
     "output_type": "execute_result"
    }
   ],
   "source": [
    "evaluation_df"
   ]
  }
 ],
 "metadata": {
  "kernelspec": {
   "display_name": ".venv",
   "language": "python",
   "name": "python3"
  },
  "language_info": {
   "codemirror_mode": {
    "name": "ipython",
    "version": 3
   },
   "file_extension": ".py",
   "mimetype": "text/x-python",
   "name": "python",
   "nbconvert_exporter": "python",
   "pygments_lexer": "ipython3",
   "version": "3.12.4"
  }
 },
 "nbformat": 4,
 "nbformat_minor": 5
}
