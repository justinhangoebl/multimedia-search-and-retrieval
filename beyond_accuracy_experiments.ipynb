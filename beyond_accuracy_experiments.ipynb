{
 "cells": [
  {
   "cell_type": "code",
   "execution_count": 15,
   "id": "c5604262-665e-43b3-8ead-4ee9519023ef",
   "metadata": {},
   "outputs": [],
   "source": [
    "import pandas as pd\n",
    "import numpy as np\n",
    "from tqdm import tqdm\n",
    "import ast\n",
    "from experimental_metrics import *"
   ]
  },
  {
   "cell_type": "code",
   "execution_count": 16,
   "id": "12e01fc0-ba66-4af3-a15f-a4220eedc71c",
   "metadata": {},
   "outputs": [],
   "source": [
    "popularity_df = pd.read_csv(\"dataset/id_metadata_mmsr.tsv\", sep=\"\\t\")\n",
    "popularity = popularity_df['popularity'].values\n",
    "pop = pd.read_csv(\"dataset/id_total_listens.tsv\", sep=\"\\t\")['total_listens'].values\n",
    "infos = pd.read_csv(\"dataset/id_information_mmsr.tsv\", sep=\"\\t\")\n",
    "inter_true = np.loadtxt(\"./predictions/binary_relevancy_matrix_00.csv\", delimiter=\"\\t\")\n",
    "tags = pd.read_csv(\"./dataset/id_tags_dict.tsv\", sep=\"\\t\")\n",
    "genres = pd.read_csv(\"./dataset/id_genres_mmsr.tsv\", sep=\"\\t\")"
   ]
  },
  {
   "cell_type": "code",
   "execution_count": 17,
   "id": "0703fcfa-f027-4286-b12a-31431bafec87",
   "metadata": {},
   "outputs": [],
   "source": [
    "models = [  \n",
    "    # Baseline\n",
    "    #'random',\n",
    "    \n",
    "    # TEXT\n",
    "    #\"lyrics_tf-idf\", \n",
    "    #\"lyrics_bert\",\n",
    "    #\"lyrics_word2vec\",\n",
    "\n",
    "    # AUDIO\n",
    "    #\"ivec256\", \n",
    "    #\"mfcc_bow\",\n",
    "    #\"mfcc_stats\",\n",
    "    #\"musicnn\",\n",
    "\n",
    "    # VIDEO\n",
    "    #\"resnet\",\n",
    "    #\"vgg19\", \n",
    "    #\"incp\",\n",
    "\n",
    "    # Hybrid\n",
    "    'early_fusion',\n",
    "    #'late_fusion',\n",
    "    #'quick_late_fusion',\n",
    "\n",
    "    # Creative\n",
    "    'gm_nn',\n",
    "    #'gm_comm',\n",
    "    #'mgm_nn',\n",
    "    #'mgm_comm',\n",
    "\n",
    "    # Diversity Aware\n",
    "    #'shifted',\n",
    "    #'p_shifted',\n",
    "    #'exp',\n",
    "    #'power',\n",
    "    #'mmr'\n",
    "]\n",
    "evaluation = []\n",
    "topK=100\n",
    "\n",
    "for model in models:\n",
    "    inter_pred = np.loadtxt(f\"predictions/rets_{model}_{topK}_matrix.csv\", delimiter=\",\")\n",
    "    pop_at_k = avg_popularity_at_k(inter_pred, popularity, topK)\n",
    "    pop_at_k_2 = avg_popularity_at_k(inter_pred, pop, topK)\n",
    "    cov_at_k = avg_coverage_at_k(inter_pred, inter_true.shape[0], topK)\n",
    "    div_at_k = diversity_at_k(inter_pred,tags, genres, k=topK)\n",
    "\n",
    "    evaluation.append({\n",
    "        \"model\": model,\n",
    "        f\"pop-sp@{topK}\":    pop_at_k,\n",
    "        f\"pop-lfm@{topK}\":   pop_at_k_2,\n",
    "        f\"cov@{topK}\":       cov_at_k,\n",
    "        f\"div@{topK}\":       div_at_k\n",
    "    })"
   ]
  },
  {
   "cell_type": "code",
   "execution_count": null,
   "id": "e323e057",
   "metadata": {},
   "outputs": [],
   "source": [
    "evaluation_df = pd.DataFrame(evaluation)"
   ]
  }
 ],
 "metadata": {
  "kernelspec": {
   "display_name": ".venv",
   "language": "python",
   "name": "python3"
  },
  "language_info": {
   "codemirror_mode": {
    "name": "ipython",
    "version": 3
   },
   "file_extension": ".py",
   "mimetype": "text/x-python",
   "name": "python",
   "nbconvert_exporter": "python",
   "pygments_lexer": "ipython3",
   "version": "3.12.4"
  }
 },
 "nbformat": 4,
 "nbformat_minor": 5
}
