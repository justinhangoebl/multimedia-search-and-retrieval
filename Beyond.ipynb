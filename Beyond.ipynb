{
 "cells": [
  {
   "cell_type": "code",
   "execution_count": 1,
   "id": "c5604262-665e-43b3-8ead-4ee9519023ef",
   "metadata": {},
   "outputs": [],
   "source": [
    "import pandas as pd\n",
    "import numpy as np\n",
    "from tqdm import tqdm\n",
    "import ast\n",
    "from metrics import *"
   ]
  },
  {
   "cell_type": "code",
   "execution_count": 2,
   "id": "12e01fc0-ba66-4af3-a15f-a4220eedc71c",
   "metadata": {},
   "outputs": [],
   "source": [
    "popularity_df = pd.read_csv(\"dataset/id_metadata_mmsr.tsv\", sep=\"\\t\")\n",
    "popularity_df_spot = pd.read_csv(\"dataset/id_total_listens.tsv\", sep=\"\\t\")\n",
    "popularity_lfm = popularity_df['popularity'].values\n",
    "infos = pd.read_csv(\"dataset/id_information_mmsr.tsv\", sep=\"\\t\")\n",
    "inter_true = np.loadtxt(\"./predictions/binary_relevancy_matrix_00.csv\", delimiter=\"\\t\")\n",
    "tags = pd.read_csv(\"./dataset/id_tags_dict.tsv\", sep=\"\\t\")\n",
    "genres = pd.read_csv(\"./dataset/id_genres_mmsr.tsv\", sep=\"\\t\")"
   ]
  },
  {
   "cell_type": "code",
   "execution_count": 3,
   "id": "dde9dde5",
   "metadata": {},
   "outputs": [
    {
     "data": {
      "text/plain": [
       "array([[1491],\n",
       "       [2655],\n",
       "       [21909],\n",
       "       ...,\n",
       "       [2283],\n",
       "       [2043],\n",
       "       [1980]], shape=(5148, 1), dtype=object)"
      ]
     },
     "execution_count": 3,
     "metadata": {},
     "output_type": "execute_result"
    }
   ],
   "source": [
    "popularity_df_spot.to_numpy()[:, 1:]"
   ]
  },
  {
   "cell_type": "code",
   "execution_count": 6,
   "id": "0703fcfa-f027-4286-b12a-31431bafec87",
   "metadata": {},
   "outputs": [
    {
     "name": "stderr",
     "output_type": "stream",
     "text": [
      "100%|██████████| 2/2 [00:32<00:00, 16.42s/it]\n"
     ]
    }
   ],
   "source": [
    "models = [\"random\", \"tf_idf\"]\n",
    "evaluation = []\n",
    "\n",
    "for model in tqdm(models):\n",
    "    inter_pred = np.loadtxt(f\"predictions/recs_{model}_10.csv\", delimiter=\"\\t\")\n",
    "    pop_at_10 = avg_popularity_at_k(inter_pred, popularity_lfm, 10)\n",
    "    pop_at_10_spot = avg_popularity_at_k(inter_pred, popularity_df_spot.to_numpy()[:, 1:], 10)\n",
    "    cov_at_10 = avg_coverage_at_k(inter_pred, inter_true.shape[0], 10)\n",
    "    ild_at_10 = intra_list_diversity_at_k(inter_pred, inter_true, 10)\n",
    "    nov_at_10 = novelty_at_k(inter_pred, popularity_lfm, 10)\n",
    "    div_at_10 = diversity_at_k(inter_pred, tags, genres, 10)\n",
    "\n",
    "    evaluation.append({\n",
    "        \"model\": model,\n",
    "        \"pop@10\": pop_at_10,\n",
    "        \"pop_sp@10\": pop_at_10_spot,\n",
    "        \"cov@10\": cov_at_10,\n",
    "        \"ild@10\": ild_at_10,\n",
    "        \"nov@10\": nov_at_10,\n",
    "        \"div@10\": div_at_10\n",
    "    })\n",
    "\n",
    "evaluation_df = pd.DataFrame(evaluation)"
   ]
  },
  {
   "cell_type": "code",
   "execution_count": 7,
   "id": "894ed5e7-03a3-4d59-a926-3581ad81facc",
   "metadata": {},
   "outputs": [
    {
     "data": {
      "text/html": [
       "<div>\n",
       "<style scoped>\n",
       "    .dataframe tbody tr th:only-of-type {\n",
       "        vertical-align: middle;\n",
       "    }\n",
       "\n",
       "    .dataframe tbody tr th {\n",
       "        vertical-align: top;\n",
       "    }\n",
       "\n",
       "    .dataframe thead th {\n",
       "        text-align: right;\n",
       "    }\n",
       "</style>\n",
       "<table border=\"1\" class=\"dataframe\">\n",
       "  <thead>\n",
       "    <tr style=\"text-align: right;\">\n",
       "      <th></th>\n",
       "      <th>model</th>\n",
       "      <th>pop@10</th>\n",
       "      <th>pop_sp@10</th>\n",
       "      <th>cov@10</th>\n",
       "      <th>ild@10</th>\n",
       "      <th>nov@10</th>\n",
       "      <th>div@10</th>\n",
       "    </tr>\n",
       "  </thead>\n",
       "  <tbody>\n",
       "    <tr>\n",
       "      <th>0</th>\n",
       "      <td>random</td>\n",
       "      <td>1.001378</td>\n",
       "      <td>1.000718</td>\n",
       "      <td>1.000000</td>\n",
       "      <td>0.937085</td>\n",
       "      <td>-4.962494</td>\n",
       "      <td>29.029332</td>\n",
       "    </tr>\n",
       "    <tr>\n",
       "      <th>1</th>\n",
       "      <td>tf_idf</td>\n",
       "      <td>1.030710</td>\n",
       "      <td>0.990188</td>\n",
       "      <td>0.976496</td>\n",
       "      <td>0.904105</td>\n",
       "      <td>-5.003819</td>\n",
       "      <td>28.924437</td>\n",
       "    </tr>\n",
       "  </tbody>\n",
       "</table>\n",
       "</div>"
      ],
      "text/plain": [
       "    model    pop@10  pop_sp@10    cov@10    ild@10    nov@10     div@10\n",
       "0  random  1.001378   1.000718  1.000000  0.937085 -4.962494  29.029332\n",
       "1  tf_idf  1.030710   0.990188  0.976496  0.904105 -5.003819  28.924437"
      ]
     },
     "execution_count": 7,
     "metadata": {},
     "output_type": "execute_result"
    }
   ],
   "source": [
    "evaluation_df"
   ]
  }
 ],
 "metadata": {
  "kernelspec": {
   "display_name": ".venv",
   "language": "python",
   "name": "python3"
  },
  "language_info": {
   "codemirror_mode": {
    "name": "ipython",
    "version": 3
   },
   "file_extension": ".py",
   "mimetype": "text/x-python",
   "name": "python",
   "nbconvert_exporter": "python",
   "pygments_lexer": "ipython3",
   "version": "3.12.2"
  }
 },
 "nbformat": 4,
 "nbformat_minor": 5
}
