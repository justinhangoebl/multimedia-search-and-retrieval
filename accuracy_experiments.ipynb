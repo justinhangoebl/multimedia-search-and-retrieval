{
 "cells": [
  {
   "cell_type": "code",
   "execution_count": 9,
   "metadata": {},
   "outputs": [],
   "source": [
    "import pandas as pd\n",
    "import numpy as np\n",
    "from experimental_metrics import *\n",
    "from random_sample import *"
   ]
  },
  {
   "cell_type": "code",
   "execution_count": 10,
   "metadata": {},
   "outputs": [],
   "source": [
    "infos = pd.read_csv(\"dataset/id_information_mmsr.tsv\", sep=\"\\t\")\n",
    "inter_true = np.loadtxt(\"./predictions/binary_relevancy_matrix_05.csv\", delimiter=\"\\t\")"
   ]
  },
  {
   "cell_type": "code",
   "execution_count": 11,
   "metadata": {},
   "outputs": [],
   "source": [
    "models = ['gm_nearest_neighbor_matrix', 'gm_community_matrix', 'early_fusion_matrix', 'late_fusion_matrix'] #, \"random\", \"bert\", \"bert_adv\", \"mfcc_bow\", \"mfcc_stats\", \"tf_idf\", \"item_item\", \"word2vec\", \"ivec\", \"vgg19\", \"resnet\", \"incp\", \"genre_tags\"]\n",
    "evaluation = []\n",
    "\n",
    "for model in models:\n",
    "    inter_pred = np.loadtxt(f\"predictions/rets_{model}_10.csv\", delimiter=\",\")\n",
    "    rat10 = recall_at_k(inter_pred, inter_true, 10)\n",
    "    pat10 = precision_at_k(inter_pred, inter_true, 10)\n",
    "    ndcgat10 = ndcg_at_k(inter_pred, inter_true, 10)\n",
    "    mean_rr = mrr(inter_pred, inter_true)\n",
    "\n",
    "    evaluation.append({\n",
    "        \"model\": model,\n",
    "        \"recall@10\": rat10,\n",
    "        \"precision@10\": pat10,\n",
    "        \"ndcg@10\": ndcgat10,\n",
    "        \"mrr\": mean_rr\n",
    "    })\n",
    "\n",
    "evaluation_df = pd.DataFrame(evaluation)"
   ]
  },
  {
   "cell_type": "code",
   "execution_count": 12,
   "metadata": {},
   "outputs": [
    {
     "data": {
      "text/html": [
       "<div>\n",
       "<style scoped>\n",
       "    .dataframe tbody tr th:only-of-type {\n",
       "        vertical-align: middle;\n",
       "    }\n",
       "\n",
       "    .dataframe tbody tr th {\n",
       "        vertical-align: top;\n",
       "    }\n",
       "\n",
       "    .dataframe thead th {\n",
       "        text-align: right;\n",
       "    }\n",
       "</style>\n",
       "<table border=\"1\" class=\"dataframe\">\n",
       "  <thead>\n",
       "    <tr style=\"text-align: right;\">\n",
       "      <th></th>\n",
       "      <th>model</th>\n",
       "      <th>recall@10</th>\n",
       "      <th>precision@10</th>\n",
       "      <th>ndcg@10</th>\n",
       "      <th>mrr</th>\n",
       "    </tr>\n",
       "  </thead>\n",
       "  <tbody>\n",
       "    <tr>\n",
       "      <th>0</th>\n",
       "      <td>gm_nearest_neighbor_matrix</td>\n",
       "      <td>0.043368</td>\n",
       "      <td>0.174825</td>\n",
       "      <td>0.224528</td>\n",
       "      <td>0.471628</td>\n",
       "    </tr>\n",
       "    <tr>\n",
       "      <th>1</th>\n",
       "      <td>gm_community_matrix</td>\n",
       "      <td>0.004483</td>\n",
       "      <td>0.054856</td>\n",
       "      <td>0.055897</td>\n",
       "      <td>0.145289</td>\n",
       "    </tr>\n",
       "    <tr>\n",
       "      <th>2</th>\n",
       "      <td>early_fusion_matrix</td>\n",
       "      <td>0.014645</td>\n",
       "      <td>0.093046</td>\n",
       "      <td>0.106660</td>\n",
       "      <td>0.253823</td>\n",
       "    </tr>\n",
       "    <tr>\n",
       "      <th>3</th>\n",
       "      <td>late_fusion_matrix</td>\n",
       "      <td>0.017610</td>\n",
       "      <td>0.115249</td>\n",
       "      <td>0.127176</td>\n",
       "      <td>0.273612</td>\n",
       "    </tr>\n",
       "  </tbody>\n",
       "</table>\n",
       "</div>"
      ],
      "text/plain": [
       "                        model  recall@10  precision@10   ndcg@10       mrr\n",
       "0  gm_nearest_neighbor_matrix   0.043368      0.174825  0.224528  0.471628\n",
       "1         gm_community_matrix   0.004483      0.054856  0.055897  0.145289\n",
       "2         early_fusion_matrix   0.014645      0.093046  0.106660  0.253823\n",
       "3          late_fusion_matrix   0.017610      0.115249  0.127176  0.273612"
      ]
     },
     "execution_count": 12,
     "metadata": {},
     "output_type": "execute_result"
    }
   ],
   "source": [
    "evaluation_df = pd.DataFrame(evaluation)\n",
    "evaluation_df"
   ]
  }
 ],
 "metadata": {
  "kernelspec": {
   "display_name": ".venv",
   "language": "python",
   "name": "python3"
  },
  "language_info": {
   "codemirror_mode": {
    "name": "ipython",
    "version": 3
   },
   "file_extension": ".py",
   "mimetype": "text/x-python",
   "name": "python",
   "nbconvert_exporter": "python",
   "pygments_lexer": "ipython3",
   "version": "3.12.4"
  }
 },
 "nbformat": 4,
 "nbformat_minor": 4
}
