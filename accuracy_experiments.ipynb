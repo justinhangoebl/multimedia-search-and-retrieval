{
 "cells": [
  {
   "cell_type": "code",
   "execution_count": 49,
   "metadata": {},
   "outputs": [],
   "source": [
    "import pandas as pd\n",
    "import numpy as np\n",
    "from experimental_metrics import *\n",
    "from single_modal_vector_retrieval import *\n",
    "from early_fusion import *\n",
    "from late_fusion import *\n",
    "from creative import *\n",
    "from random_sample import *\n",
    "from tqdm import tqdm\n",
    "import random\n",
    "import matplotlib.pyplot as plt\n",
    "%matplotlib inline"
   ]
  },
  {
   "cell_type": "code",
   "execution_count": 50,
   "metadata": {},
   "outputs": [],
   "source": [
    "infos = pd.read_csv(\"dataset/id_information_mmsr.tsv\", sep=\"\\t\")\n",
    "inter_true = np.loadtxt(\"./predictions/binary_relevancy_matrix_00.csv\", delimiter=\"\\t\")"
   ]
  },
  {
   "cell_type": "code",
   "execution_count": 51,
   "metadata": {},
   "outputs": [
    {
     "name": "stderr",
     "output_type": "stream",
     "text": [
      "100%|██████████| 1/1 [00:09<00:00,  9.21s/it]\n"
     ]
    }
   ],
   "source": [
    "models = [\n",
    "    #'random',\n",
    "    'mfcc_bow',\n",
    "    #'jsd_mfcc_bow',\n",
    "    #'lyrics_bert',\n",
    "    #'jsd_mfcc_bow',\n",
    "    #'mfcc_stats_gaussian_jensen',\n",
    "    #'musicnn',\n",
    "    #'resnet',\n",
    "    #'early_fusion',\n",
    "    #'graph_early_fusion',\n",
    "    #'late_fusion',\n",
    "    #'simple_late',\n",
    "    #'simple_late_norm',\n",
    "    #'gm_nearest_neighbor',\n",
    "    #'gm_community',\n",
    "    #'mgm_nearest_neighbor',\n",
    "    #'mgm_community'\n",
    "]\n",
    "\n",
    "evaluation = []\n",
    "topK = 10\n",
    "\n",
    "for model in tqdm(models):\n",
    "    inter_pred = np.loadtxt(f\"predictions/rets_{model}_matrix_{topK}.csv\", delimiter=\",\")\n",
    "\n",
    "    rat10 = recall_at_k(inter_pred, inter_true, k=topK)\n",
    "    pat10 = precision_at_k(inter_pred, inter_true, k=topK)\n",
    "    ndcgat10 = ndcg_at_k(inter_pred, inter_true, k=topK)\n",
    "    mean_rr = mrr(inter_pred, inter_true)\n",
    "\n",
    "    evaluation.append({\n",
    "        \"model\": model,\n",
    "        \"recall@10\": rat10,\n",
    "        \"precision@10\": pat10,\n",
    "        \"ndcg@10\": ndcgat10,\n",
    "        \"mrr\": mean_rr\n",
    "    })\n"
   ]
  },
  {
   "cell_type": "code",
   "execution_count": 52,
   "metadata": {},
   "outputs": [],
   "source": [
    "inter_pred = np.loadtxt(f\"recs_knn1_10.csv\", delimiter=\"\\t\")\n",
    "\n",
    "rat10 = recall_at_k(inter_pred, inter_true, k=topK)\n",
    "pat10 = precision_at_k(inter_pred, inter_true, k=topK)\n",
    "ndcgat10 = ndcg_at_k(inter_pred, inter_true, k=topK)\n",
    "mean_rr = mrr(inter_pred, inter_true)\n",
    "\n",
    "evaluation.append({\n",
    "    \"model\": \"knn1\",\n",
    "    \"recall@10\": rat10,\n",
    "    \"precision@10\": pat10,\n",
    "    \"ndcg@10\": ndcgat10,\n",
    "    \"mrr\": mean_rr\n",
    "})\n",
    "\n",
    "evaluation_df = pd.DataFrame(evaluation)"
   ]
  },
  {
   "cell_type": "code",
   "execution_count": 48,
   "metadata": {},
   "outputs": [
    {
     "data": {
      "text/html": [
       "<div>\n",
       "<style scoped>\n",
       "    .dataframe tbody tr th:only-of-type {\n",
       "        vertical-align: middle;\n",
       "    }\n",
       "\n",
       "    .dataframe tbody tr th {\n",
       "        vertical-align: top;\n",
       "    }\n",
       "\n",
       "    .dataframe thead th {\n",
       "        text-align: right;\n",
       "    }\n",
       "</style>\n",
       "<table border=\"1\" class=\"dataframe\">\n",
       "  <thead>\n",
       "    <tr style=\"text-align: right;\">\n",
       "      <th></th>\n",
       "      <th>model</th>\n",
       "      <th>recall@10</th>\n",
       "      <th>precision@10</th>\n",
       "      <th>ndcg@10</th>\n",
       "      <th>mrr</th>\n",
       "    </tr>\n",
       "  </thead>\n",
       "  <tbody>\n",
       "    <tr>\n",
       "      <th>0</th>\n",
       "      <td>mfcc_bow</td>\n",
       "      <td>0.007672</td>\n",
       "      <td>0.142968</td>\n",
       "      <td>0.148872</td>\n",
       "      <td>0.291288</td>\n",
       "    </tr>\n",
       "    <tr>\n",
       "      <th>1</th>\n",
       "      <td>mfcc_bow</td>\n",
       "      <td>0.001835</td>\n",
       "      <td>0.060354</td>\n",
       "      <td>0.060517</td>\n",
       "      <td>0.155085</td>\n",
       "    </tr>\n",
       "  </tbody>\n",
       "</table>\n",
       "</div>"
      ],
      "text/plain": [
       "      model  recall@10  precision@10   ndcg@10       mrr\n",
       "0  mfcc_bow   0.007672      0.142968  0.148872  0.291288\n",
       "1  mfcc_bow   0.001835      0.060354  0.060517  0.155085"
      ]
     },
     "execution_count": 53,
     "metadata": {},
     "output_type": "execute_result"
    }
   ],
   "source": [
    "evaluation_df = pd.DataFrame(evaluation)\n",
    "evaluation_df"
   ]
  }
 ],
 "metadata": {
  "kernelspec": {
   "display_name": ".venv",
   "language": "python",
   "name": "python3"
  },
  "language_info": {
   "codemirror_mode": {
    "name": "ipython",
    "version": 3
   },
   "file_extension": ".py",
   "mimetype": "text/x-python",
   "name": "python",
   "nbconvert_exporter": "python",
   "pygments_lexer": "ipython3",
   "version": "3.12.4"
  }
 },
 "nbformat": 4,
 "nbformat_minor": 4
}
