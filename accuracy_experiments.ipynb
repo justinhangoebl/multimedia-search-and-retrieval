{
 "cells": [
  {
   "cell_type": "code",
   "execution_count": 18,
   "metadata": {},
   "outputs": [],
   "source": [
    "import pandas as pd\n",
    "import numpy as np\n",
    "from experimental_metrics import *\n",
    "from single_modal_vector_retrieval import *\n",
    "from early_fusion import *\n",
    "from late_fusion import *\n",
    "from metadata_graph import *\n",
    "from random_sample import *\n",
    "from tqdm import tqdm\n",
    "import random\n",
    "import matplotlib.pyplot as plt\n",
    "%matplotlib inline"
   ]
  },
  {
   "cell_type": "code",
   "execution_count": 19,
   "metadata": {},
   "outputs": [],
   "source": [
    "infos = pd.read_csv(\"dataset/id_information_mmsr.tsv\", sep=\"\\t\")\n",
    "inter_true = np.loadtxt(\"./predictions/binary_relevancy_matrix_00.csv\", delimiter=\"\\t\")"
   ]
  },
  {
   "cell_type": "code",
   "execution_count": 22,
   "metadata": {},
   "outputs": [
    {
     "name": "stderr",
     "output_type": "stream",
     "text": [
      "100%|██████████| 1/1 [00:15<00:00, 15.85s/it]\n"
     ]
    }
   ],
   "source": [
    "models = [  \n",
    "    # Baseline\n",
    "    #'random',\n",
    "    \n",
    "    # TEXT\n",
    "    #\"lyrics_tf-idf\", \n",
    "    #\"lyrics_bert\",\n",
    "    #\"lyrics_word2vec\",\n",
    "\n",
    "    # AUDIO\n",
    "    #\"ivec256\", \n",
    "    #\"mfcc_bow\",\n",
    "    #\"mfcc_stats\",\n",
    "    #\"musicnn\",\n",
    "\n",
    "    # VIDEO\n",
    "    #\"resnet\",\n",
    "    #\"vgg19\", \n",
    "    #\"incp\",\n",
    "\n",
    "    # Hybrid\n",
    "    'early_fusion',\n",
    "    #'late_fusion',\n",
    "    #'quick_late_fusion',\n",
    "\n",
    "    # Creative\n",
    "    'gm_nn',\n",
    "    #'gm_comm',\n",
    "    #'mgm_nn',\n",
    "    #'mgm_comm',\n",
    "\n",
    "    # Diversity Aware\n",
    "    #'shifted',\n",
    "    #'p_shifted',\n",
    "    #'exp',\n",
    "    #'power',\n",
    "    #'mmr'\n",
    "]\n",
    "\n",
    "evaluation = []\n",
    "topK = 100\n",
    "\n",
    "for model in tqdm(models):\n",
    "    inter_pred = np.loadtxt(f\"predictions/rets_{model}_{topK}_matrix.csv\", delimiter=\",\")\n",
    "\n",
    "    ratk = recall_at_k(inter_pred, inter_true, k=topK)\n",
    "    patk = precision_at_k(inter_pred, inter_true, k=topK)\n",
    "    ndcgatk = ndcg_at_k(inter_pred, inter_true, k=topK)\n",
    "    mean_rr = mrr(inter_pred, inter_true)\n",
    "\n",
    "    evaluation.append({\n",
    "        f\"model\": model,\n",
    "        f\"recall@{topK}\": ratk,\n",
    "        f\"precision@{topK}\": patk,\n",
    "        f\"ndcg@{topK}\": ndcgatk,\n",
    "        f\"mrr\": mean_rr\n",
    "    })\n"
   ]
  },
  {
   "cell_type": "code",
   "execution_count": 23,
   "metadata": {},
   "outputs": [],
   "source": [
    "evaluation_df = pd.DataFrame(evaluation)"
   ]
  }
 ],
 "metadata": {
  "kernelspec": {
   "display_name": ".venv",
   "language": "python",
   "name": "python3"
  },
  "language_info": {
   "codemirror_mode": {
    "name": "ipython",
    "version": 3
   },
   "file_extension": ".py",
   "mimetype": "text/x-python",
   "name": "python",
   "nbconvert_exporter": "python",
   "pygments_lexer": "ipython3",
   "version": "3.12.4"
  }
 },
 "nbformat": 4,
 "nbformat_minor": 4
}
