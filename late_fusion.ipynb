{
 "cells": [
  {
   "cell_type": "code",
   "execution_count": 1,
   "metadata": {},
   "outputs": [
    {
     "name": "stderr",
     "output_type": "stream",
     "text": [
      "c:\\Users\\Justin\\Documents\\JKU\\2024WS\\multimedia-search-and-retrieval\\.venv\\Lib\\site-packages\\tqdm_joblib\\__init__.py:4: TqdmWarning: IProgress not found. Please update jupyter and ipywidgets. See https://ipywidgets.readthedocs.io/en/stable/user_install.html\n",
      "  from tqdm.autonotebook import tqdm\n"
     ]
    }
   ],
   "source": [
    "import pandas as pd\n",
    "import numpy as np\n",
    "from late_fusion import *\n",
    "import itertools"
   ]
  },
  {
   "cell_type": "code",
   "execution_count": 2,
   "metadata": {},
   "outputs": [],
   "source": [
    "feature_files = {\n",
    "    'mfcc_bow': 'dataset/id_mfcc_bow_mmsr.tsv',\n",
    "    #'mfcc_stats': 'dataset/id_mfcc_stats_mmsr.tsv',\n",
    "\n",
    "    #'blf_correlation' : 'dataset/id_blf_correlation_mmsr.tsv',\n",
    "    #'blf_spectral': 'dataset/id_blf_spectral_mmsr.tsv',\n",
    "    #'blf_spectralcontrast': 'dataset/id_blf_spectralcontrast_mmsr.tsv',\n",
    "    #'blf_deltaspectral': 'dataset/id_blf_deltaspectral_mmsr.tsv',\n",
    "    #'blf_logfluc': 'dataset/id_blf_logfluc_mmsr.tsv',\n",
    "    #'blf_vardeltaspectral': 'dataset/id_blf_vardeltaspectral_mmsr.tsv',\n",
    "\n",
    "    #'ivec256': 'dataset/id_ivec256_mmsr.tsv',\n",
    "    #'ivec512': 'dataset/id_ivec512_mmsr.tsv',\n",
    "    #'ivec1024': 'dataset/id_ivec1024_mmsr.tsv',topKasdasdassadasdasdasdasd\n",
    "\n",
    "    'musicnn': 'dataset/id_musicnn_mmsr.tsv',\n",
    "\n",
    "    'lyrics_bert': 'dataset/id_lyrics_bert_mmsr.tsv',\n",
    "    #'lyrics_tf-idf': 'dataset/id_lyrics_tf-idf_mmsr.tsv',\n",
    "    #'lyrics_word2vec': 'dataset/id_lyrics_word2vec_mmsr.tsv',\n",
    "\n",
    "    'resnet': 'dataset/id_resnet_mmsr.tsv',\n",
    "    #'vgg': 'dataset/id_vgg19_mmsr.tsv',\n",
    "    #'incp': 'dataset/id_incp_mmsr.tsv',\n",
    "\n",
    "    'artist': 'dataset/id_information_mmsr.tsv',\n",
    "}\n"
   ]
  },
  {
   "cell_type": "code",
   "execution_count": null,
   "metadata": {},
   "outputs": [
    {
     "name": "stdout",
     "output_type": "stream",
     "text": [
      "Using 4 cores for batch similarity search.\n"
     ]
    },
    {
     "name": "stderr",
     "output_type": "stream",
     "text": [
      "Processing batch similarity search: 100%|██████████| 5148/5148 [00:06<00:00, 762.65it/s]\n"
     ]
    }
   ],
   "source": [
    "retrieval = MultiModalLateFusionRetrieval()\n",
    "retrieval.load_and_normalize_features(feature_files)\n",
    "\n",
    "feature_weights = {    \n",
    "    'mfcc_bow':                 0.6,\n",
    "    #'mfcc_stats':              \n",
    "\n",
    "    #'blf_correlation' :        \n",
    "    #'blf_spectral':            \n",
    "    #'blf_spectralcontrast':    \n",
    "    #'blf_deltaspectral':       \n",
    "    #'blf_logfluc':             \n",
    "    #'blf_vardeltaspectral':    \n",
    "\n",
    "    #'ivec256':                 \n",
    "    #'ivec512':                 \n",
    "    #'ivec1024':                \n",
    "\n",
    "    'musicnn':                  0.4,\n",
    "\n",
    "    'lyrics_bert':              0.5,\n",
    "    #'lyrics_tf-idf':           \n",
    "    #'lyrics_word2vec':         \n",
    "\n",
    "    'resnet':                   0.3,\n",
    "    #'vgg':                     \n",
    "    #'incp':                    \n",
    "\n",
    "    'artist':                   0.7,\n",
    "}\n",
    "infos = pd.read_csv(\"dataset/id_information_mmsr.tsv\", sep=\"\\t\")\n",
    "\n",
    "song_ids = infos['id'].tolist()\n",
    "results = retrieval.batch_similarity_search(song_ids, top_k=100, fusion_method=\"weighted_average\", weights=feature_weights)"
   ]
  },
  {
   "cell_type": "code",
   "execution_count": 4,
   "metadata": {},
   "outputs": [],
   "source": [
    "results_df = pd.DataFrame(results)\n",
    "results_df.to_csv('./predictions/ui/rets_late_fusion_100.csv', sep=\",\", index=False, header=True)"
   ]
  },
  {
   "cell_type": "code",
   "execution_count": null,
   "metadata": {},
   "outputs": [
    {
     "name": "stderr",
     "output_type": "stream",
     "text": [
      "generate matrix: 100%|██████████| 2574000/2574000 [01:46<00:00, 24239.84it/s]\n"
     ]
    }
   ],
   "source": [
    "inter_matr = np.zeros((len(infos), len(infos)))\n",
    "\n",
    "song_id_to_index = {song_id: idx for idx, song_id in enumerate(song_ids)}\n",
    "\n",
    "for idx, row in tqdm(results_df.iterrows(), desc=\"generate matrix\", total=len(results_df)):\n",
    "    source = row[\"source_id\"]\n",
    "    target = row[\"target_id\"]\n",
    "    inter_matr[song_id_to_index[source], song_id_to_index[target]] = row[\"similarity\"]\n",
    "\n",
    "np.savetxt(f\"./predictions/rets_late_fusion_100_matrix.csv\", inter_matr, delimiter=\",\")"
   ]
  }
 ],
 "metadata": {
  "kernelspec": {
   "display_name": ".venv",
   "language": "python",
   "name": "python3"
  },
  "language_info": {
   "codemirror_mode": {
    "name": "ipython",
    "version": 3
   },
   "file_extension": ".py",
   "mimetype": "text/x-python",
   "name": "python",
   "nbconvert_exporter": "python",
   "pygments_lexer": "ipython3",
   "version": "3.12.4"
  }
 },
 "nbformat": 4,
 "nbformat_minor": 2
}
