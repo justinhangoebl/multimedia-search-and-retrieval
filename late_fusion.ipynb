{
 "cells": [
  {
   "cell_type": "code",
   "execution_count": 16,
   "metadata": {},
   "outputs": [],
   "source": [
    "import pandas as pd\n",
    "import numpy as np\n",
    "from late_fusion import *\n",
    "import itertools"
   ]
  },
  {
   "cell_type": "code",
   "execution_count": 17,
   "metadata": {},
   "outputs": [
    {
     "name": "stdout",
     "output_type": "stream",
     "text": [
      "24\n"
     ]
    }
   ],
   "source": [
    "feature_files = {\n",
    "    'mfcc_bow': 'dataset/id_mfcc_bow_mmsr.tsv',\n",
    "    #'mfcc_stats': 'dataset/id_mfcc_stats_mmsr.tsv',\n",
    "\n",
    "    #'blf_correlation' : 'dataset/id_blf_correlation_mmsr.tsv',\n",
    "    #'blf_spectral': 'dataset/id_blf_spectral_mmsr.tsv',\n",
    "    #'blf_spectralcontrast': 'dataset/id_blf_spectralcontrast_mmsr.tsv',\n",
    "    #'blf_deltaspectral': 'dataset/id_blf_deltaspectral_mmsr.tsv',\n",
    "    #'blf_logfluc': 'dataset/id_blf_logfluc_mmsr.tsv',\n",
    "    #'blf_vardeltaspectral': 'dataset/id_blf_vardeltaspectral_mmsr.tsv',\n",
    "\n",
    "    #'ivec256': 'dataset/id_ivec256_mmsr.tsv',\n",
    "    #'ivec512': 'dataset/id_ivec512_mmsr.tsv',\n",
    "    #'ivec1024': 'dataset/id_ivec1024_mmsr.tsv',\n",
    "\n",
    "    'musicnn': 'dataset/id_musicnn_mmsr.tsv',\n",
    "\n",
    "    'lyrics_bert': 'dataset/id_lyrics_bert_mmsr.tsv',\n",
    "    #'lyrics_tf-idf': 'dataset/id_lyrics_tf-idf_mmsr.tsv',\n",
    "    #'lyrics_word2vec': 'dataset/id_lyrics_word2vec_mmsr.tsv',\n",
    "\n",
    "    #'resnet': 'dataset/id_resnet_mmsr.tsv',\n",
    "    #'vgg': 'dataset/id_vgg19_mmsr.tsv',\n",
    "    'incp': 'dataset/id_incp_mmsr.tsv'\n",
    "}\n",
    "\n",
    "# Get all keys\n",
    "keys = list(feature_files.keys())\n",
    "\n",
    "# Generate all permutations of 4 items\n",
    "permutations = list(itertools.permutations(keys, 4))\n",
    "\n",
    "dict_permutations = []\n",
    "for perm in permutations:\n",
    "    dict_permutations.append({key: feature_files[key] for key in perm})\n",
    "\n",
    "print(len(dict_permutations))\n"
   ]
  },
  {
   "cell_type": "code",
   "execution_count": 18,
   "metadata": {},
   "outputs": [
    {
     "name": "stdout",
     "output_type": "stream",
     "text": [
      "Using 4 cores for batch similarity search.\n"
     ]
    },
    {
     "name": "stderr",
     "output_type": "stream",
     "text": [
      "Processing batch similarity search: 100%|██████████| 5148/5148 [00:04<00:00, 1211.04it/s]\n"
     ]
    }
   ],
   "source": [
    "retrieval = MultiModalLateFusionRetrieval()\n",
    "retrieval.load_and_normalize_features(feature_files)\n",
    "\n",
    "feature_weights = [\n",
    "    #('mfcc_bow', 0.4),\n",
    "    #('mfcc_stats', 0.4),\n",
    "\n",
    "    ('blf_correlation', 0.4),\n",
    "    ('blf_spectral', 0.4),\n",
    "    ('blf_spectralcontrast', 0.4),\n",
    "    ('blf_deltaspectral', 0.4),\n",
    "    ('blf_logfluc', 0.4),\n",
    "    ('blf_vardeltaspectral', 0.4),\n",
    "\n",
    "    #('musicnn', 0.4),\n",
    "\n",
    "    #('lyrics_bert', 0.4),\n",
    "    #('lyrics_tf-idf', 0.4),\n",
    "    #('lyrics_word2vec', 0.4),\n",
    "\n",
    "    #('resnet', 0.4),\n",
    "    #('vgg', 0.4),\n",
    "    #('incp', 0.4)\n",
    "]\n",
    "\n",
    "infos = pd.read_csv(\"dataset/id_information_mmsr.tsv\", sep=\"\\t\")\n",
    "\n",
    "song_ids = infos['id'].tolist()\n",
    "results = retrieval.batch_similarity_search(song_ids, top_k=10, fusion_method=\"average\", weights=feature_weights)"
   ]
  },
  {
   "cell_type": "code",
   "execution_count": 19,
   "metadata": {},
   "outputs": [],
   "source": [
    "results_df = pd.DataFrame(results)\n",
    "results_df.to_csv('./predictions/rets_late_fusion_results_ui_10.csv', sep=\",\", index=False, header=True)"
   ]
  },
  {
   "cell_type": "code",
   "execution_count": 20,
   "metadata": {},
   "outputs": [
    {
     "name": "stderr",
     "output_type": "stream",
     "text": [
      "generate matrix: 100%|██████████| 51480/51480 [00:02<00:00, 20839.62it/s]\n"
     ]
    }
   ],
   "source": [
    "inter_matr = np.zeros((len(infos), len(infos)))\n",
    "\n",
    "\n",
    "song_ids = infos['id'].tolist()\n",
    "song_id_to_index = {song_id: idx for idx, song_id in enumerate(song_ids)}\n",
    "\n",
    "for idx, row in tqdm(results_df.iterrows(), desc=\"generate matrix\", total=len(results_df)):\n",
    "    source = row[\"source_id\"]\n",
    "    target = row[\"target_id\"]\n",
    "    inter_matr[song_id_to_index[source], song_id_to_index[target]] = row[\"similarity\"]\n",
    "\n",
    "np.savetxt(f\"./predictions/rets_late_fusion_matrix_10.csv\", inter_matr, delimiter=\",\")"
   ]
  }
 ],
 "metadata": {
  "kernelspec": {
   "display_name": ".venv",
   "language": "python",
   "name": "python3"
  },
  "language_info": {
   "codemirror_mode": {
    "name": "ipython",
    "version": 3
   },
   "file_extension": ".py",
   "mimetype": "text/x-python",
   "name": "python",
   "nbconvert_exporter": "python",
   "pygments_lexer": "ipython3",
   "version": "3.12.4"
  }
 },
 "nbformat": 4,
 "nbformat_minor": 2
}
