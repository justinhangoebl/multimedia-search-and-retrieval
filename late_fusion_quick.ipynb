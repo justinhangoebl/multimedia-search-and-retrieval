{
 "cells": [
  {
   "cell_type": "code",
   "execution_count": 3,
   "metadata": {},
   "outputs": [],
   "source": [
    "import numpy as np\n",
    "import os\n",
    "\n",
    "# List of model names\n",
    "models = [\n",
    "    'lyrics_bert',\n",
    "    'mfcc_bow',\n",
    "    'musicnn',\n",
    "    'resnet',\n",
    "]\n",
    "\n",
    "# Function to normalize a matrix to the [0, 1] scale\n",
    "def normalize(matrix):\n",
    "    min_val, max_val = np.min(matrix), np.max(matrix)\n",
    "    return (matrix - min_val) / (max_val - min_val) if max_val > min_val else matrix\n",
    "\n",
    "# Load and normalize matrices dynamically\n",
    "matrices = []\n",
    "for model in models:\n",
    "    file_path = f\"predictions/rets_{model}_100_matrix.csv\"\n",
    "    if os.path.exists(file_path):\n",
    "        matrix = np.loadtxt(file_path, delimiter=\",\")\n",
    "        matrices.append(normalize(matrix))\n",
    "    else:\n",
    "        print(f\"Warning: File not found for model '{model}' at {file_path}\")\n",
    "\n",
    "# Ensure there are matrices to combine\n",
    "if matrices:\n",
    "    # Combine and average the normalized matrices\n",
    "    combined_average_norm = np.mean(matrices, axis=0)\n",
    "    np.savetxt(f\"./predictions/rets_simple_late_norm_100_matrix.csv\", combined_average_norm, delimiter=\",\")\n",
    "\n",
    "    raw_matrices = [np.loadtxt(f\"predictions/rets_{model}_100_matrix.csv\", delimiter=\",\") for model in models if os.path.exists(f\"predictions/rets_{model}_100_matrix.csv\")]\n",
    "    combined_average = np.mean(raw_matrices, axis=0)\n",
    "    np.savetxt(f\"./predictions/rets_simple_late_100_matrix.csv\", combined_average, delimiter=\",\")\n"
   ]
  }
 ],
 "metadata": {
  "kernelspec": {
   "display_name": ".venv",
   "language": "python",
   "name": "python3"
  },
  "language_info": {
   "codemirror_mode": {
    "name": "ipython",
    "version": 3
   },
   "file_extension": ".py",
   "mimetype": "text/x-python",
   "name": "python",
   "nbconvert_exporter": "python",
   "pygments_lexer": "ipython3",
   "version": "3.12.4"
  }
 },
 "nbformat": 4,
 "nbformat_minor": 2
}
